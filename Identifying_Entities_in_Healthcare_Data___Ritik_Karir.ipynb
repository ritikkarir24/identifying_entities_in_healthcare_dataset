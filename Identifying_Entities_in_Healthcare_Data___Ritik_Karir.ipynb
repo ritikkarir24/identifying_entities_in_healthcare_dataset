{
  "nbformat": 4,
  "nbformat_minor": 0,
  "metadata": {
    "colab": {
      "provenance": []
    },
    "kernelspec": {
      "name": "python3",
      "display_name": "Python 3"
    },
    "language_info": {
      "name": "python"
    }
  },
  "cells": [
    {
      "cell_type": "markdown",
      "source": [
        "# Identifying Entities in Healthcare Data"
      ],
      "metadata": {
        "id": "56L9SDFINGDJ"
      }
    },
    {
      "cell_type": "markdown",
      "source": [
        "###Setting up workspace"
      ],
      "metadata": {
        "id": "CkHR95mMPiLr"
      }
    },
    {
      "cell_type": "code",
      "source": [
        "#importing necessary libraries"
      ],
      "metadata": {
        "id": "6HXOBd9vPm2t"
      },
      "execution_count": null,
      "outputs": []
    },
    {
      "cell_type": "code",
      "source": [
        "import pathlib\n",
        "import os\n",
        "from google.colab import drive\n",
        "drive.mount('/content/gdrive')\n",
        "base_dir = pathlib.Path('/content/gdrive/MyDrive/NLP /NER_Medical_Data')\n",
        "os.chdir(str(base_dir))"
      ],
      "metadata": {
        "colab": {
          "base_uri": "https://localhost:8080/"
        },
        "id": "V6QB9J6PPpYN",
        "outputId": "df35ec5f-c94a-4ffa-ba4f-b25485b55e6f"
      },
      "execution_count": null,
      "outputs": [
        {
          "output_type": "stream",
          "name": "stdout",
          "text": [
            "Drive already mounted at /content/gdrive; to attempt to forcibly remount, call drive.mount(\"/content/gdrive\", force_remount=True).\n"
          ]
        }
      ]
    },
    {
      "cell_type": "code",
      "source": [
        "!ls"
      ],
      "metadata": {
        "colab": {
          "base_uri": "https://localhost:8080/"
        },
        "id": "-ndC3gg8R_RN",
        "outputId": "831b86aa-2565-4ae7-fcca-2d14ee00750c"
      },
      "execution_count": null,
      "outputs": [
        {
          "output_type": "stream",
          "name": "stdout",
          "text": [
            "test_label  test_sent  train_label  train_sent\n"
          ]
        }
      ]
    },
    {
      "cell_type": "code",
      "source": [
        "!pip install pycrf\n",
        "!pip install sklearn-crfsuite\n",
        "\n",
        "import spacy\n",
        "import sklearn_crfsuite\n",
        "from sklearn_crfsuite import metrics\n",
        "import pandas as pd\n",
        "\n",
        "model = spacy.load(\"en_core_web_sm\")"
      ],
      "metadata": {
        "colab": {
          "base_uri": "https://localhost:8080/"
        },
        "id": "oh7MtYKSSiiM",
        "outputId": "c9432f39-15cd-4752-9a48-c422030b92d1"
      },
      "execution_count": null,
      "outputs": [
        {
          "output_type": "stream",
          "name": "stdout",
          "text": [
            "Requirement already satisfied: pycrf in /usr/local/lib/python3.10/dist-packages (0.0.1)\n",
            "Requirement already satisfied: sklearn-crfsuite in /usr/local/lib/python3.10/dist-packages (0.5.0)\n",
            "Requirement already satisfied: python-crfsuite>=0.9.7 in /usr/local/lib/python3.10/dist-packages (from sklearn-crfsuite) (0.9.10)\n",
            "Requirement already satisfied: scikit-learn>=0.24.0 in /usr/local/lib/python3.10/dist-packages (from sklearn-crfsuite) (1.5.2)\n",
            "Requirement already satisfied: tabulate>=0.4.2 in /usr/local/lib/python3.10/dist-packages (from sklearn-crfsuite) (0.9.0)\n",
            "Requirement already satisfied: tqdm>=2.0 in /usr/local/lib/python3.10/dist-packages (from sklearn-crfsuite) (4.66.5)\n",
            "Requirement already satisfied: numpy>=1.19.5 in /usr/local/lib/python3.10/dist-packages (from scikit-learn>=0.24.0->sklearn-crfsuite) (1.26.4)\n",
            "Requirement already satisfied: scipy>=1.6.0 in /usr/local/lib/python3.10/dist-packages (from scikit-learn>=0.24.0->sklearn-crfsuite) (1.13.1)\n",
            "Requirement already satisfied: joblib>=1.2.0 in /usr/local/lib/python3.10/dist-packages (from scikit-learn>=0.24.0->sklearn-crfsuite) (1.4.2)\n",
            "Requirement already satisfied: threadpoolctl>=3.1.0 in /usr/local/lib/python3.10/dist-packages (from scikit-learn>=0.24.0->sklearn-crfsuite) (3.5.0)\n"
          ]
        }
      ]
    },
    {
      "cell_type": "markdown",
      "source": [
        "# Data Preprocessing\n",
        "\n",
        "The dataset provided is in the form of one word per line. Let's understand the format of data below:\n",
        "- Suppose there are *x* words in a sentence, then there will be *x* continuous lines with one word in each line.\n",
        "- Further, the two sentences are separated by empty lines. The labels for the data follow the same format.\n",
        "\n",
        "**We need to pre-process the data to recover the complete sentences and their labels.**"
      ],
      "metadata": {
        "id": "a282It0XSyNU"
      }
    },
    {
      "cell_type": "markdown",
      "source": [
        "### Construct the proper sentences from individual words and print 5 sentences."
      ],
      "metadata": {
        "id": "CgVEpDwbS2nm"
      }
    },
    {
      "cell_type": "code",
      "source": [
        "# insert images"
      ],
      "metadata": {
        "id": "W3raW6IgTJ7L"
      },
      "execution_count": null,
      "outputs": []
    },
    {
      "cell_type": "code",
      "source": [
        "# Reading the train and test sentences and labels\n",
        "with open('train_sent', 'r') as train_sent_file:\n",
        "  train_words = train_sent_file.readlines()\n",
        "\n",
        "with open('train_label', 'r') as train_labels_file:\n",
        "  train_labels_by_word = train_labels_file.readlines()\n",
        "\n",
        "with open('test_sent', 'r') as test_sent_file:\n",
        "  test_words = test_sent_file.readlines()\n",
        "\n",
        "with open('test_label', 'r') as test_labels_file:\n",
        "  test_labels_by_word = test_labels_file.readlines()"
      ],
      "metadata": {
        "id": "Nttoq6vcTS3v"
      },
      "execution_count": null,
      "outputs": []
    },
    {
      "cell_type": "code",
      "source": [
        "# Sanity check to see that the number of tokens and no. of corresponding labels match.\n",
        "print(\"Count of tokens in training set\\n\",\"No. of words: \",len(train_words),\"\\nNo. of labels: \",len(train_labels_by_word))\n",
        "print(\"\\n\\nCount of tokens in test set\\n\",\"No. of words: \",len(test_words),\"\\nNo. of labels: \",len(test_labels_by_word))"
      ],
      "metadata": {
        "colab": {
          "base_uri": "https://localhost:8080/"
        },
        "id": "dxVizgJtTUog",
        "outputId": "e0c954f7-9935-42b9-cdaf-1246842d587e"
      },
      "execution_count": null,
      "outputs": [
        {
          "output_type": "stream",
          "name": "stdout",
          "text": [
            "Count of tokens in training set\n",
            " No. of words:  48501 \n",
            "No. of labels:  48501\n",
            "\n",
            "\n",
            "Count of tokens in test set\n",
            " No. of words:  19674 \n",
            "No. of labels:  19674\n"
          ]
        }
      ]
    },
    {
      "cell_type": "code",
      "source": [
        "# Function to combine tokens belonging to the same sentence. Sentences are separated by \"\\n\" in the dataset.\n",
        "def convert_to_sentences(dataset):\n",
        "    sent_list = []\n",
        "    sent = \"\"\n",
        "    for entity in dataset:\n",
        "        if entity != '\\n':\n",
        "            sent = sent + entity[:-1] + \" \"       # Adding word/label to current sentence / sequence of labels\n",
        "        else:\n",
        "            sent_list.append(sent[:-1])           # Getting rid of the space added after the last entity.\n",
        "            sent = \"\"\n",
        "    return sent_list"
      ],
      "metadata": {
        "id": "qGNbL9GdTVWn"
      },
      "execution_count": null,
      "outputs": []
    },
    {
      "cell_type": "code",
      "source": [
        "# Converting tokens to sentences and individual labels to sequences of corresponding labels.\n",
        "train_sentences = convert_to_sentences(train_words)\n",
        "train_labels = convert_to_sentences(train_labels_by_word)\n",
        "test_sentences = convert_to_sentences(test_words)\n",
        "test_labels = convert_to_sentences(test_labels_by_word)"
      ],
      "metadata": {
        "id": "W0Uv1HcVUAH5"
      },
      "execution_count": null,
      "outputs": []
    },
    {
      "cell_type": "code",
      "source": [
        "print(\"First five training sentences and their labels:\\n\")\n",
        "for i in range(5):\n",
        "    print(train_sentences[i],\"\\n\",train_labels[i],\"\\n\")"
      ],
      "metadata": {
        "colab": {
          "base_uri": "https://localhost:8080/"
        },
        "id": "YfKovMiRUAu_",
        "outputId": "454174ed-c4e4-417b-b4f1-b3f761d6ecee"
      },
      "execution_count": null,
      "outputs": [
        {
          "output_type": "stream",
          "name": "stdout",
          "text": [
            "First five training sentences and their labels:\n",
            "\n",
            "All live births > or = 23 weeks at the University of Vermont in 1995 ( n = 2395 ) were retrospectively analyzed for delivery route , indication for cesarean , gestational age , parity , and practice group ( to reflect risk status ) \n",
            " O O O O O O O O O O O O O O O O O O O O O O O O O O O O O O O O O O O O O O O O O O O O O \n",
            "\n",
            "The total cesarean rate was 14.4 % ( 344 of 2395 ) , and the primary rate was 11.4 % ( 244 of 2144 ) \n",
            " O O O O O O O O O O O O O O O O O O O O O O O O O \n",
            "\n",
            "Abnormal presentation was the most common indication ( 25.6 % , 88 of 344 ) \n",
            " O O O O O O O O O O O O O O O \n",
            "\n",
            "The `` corrected '' cesarean rate ( maternal-fetal medicine and transported patients excluded ) was 12.4 % ( 273 of 2194 ) , and the `` corrected '' primary rate was 9.6 % ( 190 of 1975 ) \n",
            " O O O O O O O O O O O O O O O O O O O O O O O O O O O O O O O O O O O O O O \n",
            "\n",
            "Arrest of dilation was the most common indication in both `` corrected '' subgroups ( 23.4 and 24.6 % , respectively ) \n",
            " O O O O O O O O O O O O O O O O O O O O O O \n",
            "\n"
          ]
        }
      ]
    },
    {
      "cell_type": "code",
      "source": [
        "print(\"First five test sentences and their labels:\\n\")\n",
        "for i in range(5):\n",
        "    print(test_sentences[i],\"\\n\",test_labels[i],\"\\n\")"
      ],
      "metadata": {
        "colab": {
          "base_uri": "https://localhost:8080/"
        },
        "id": "YLfS0qmqUKvs",
        "outputId": "0d6259e1-7b49-44f6-856c-74e64b550fac"
      },
      "execution_count": null,
      "outputs": [
        {
          "output_type": "stream",
          "name": "stdout",
          "text": [
            "First five test sentences and their labels:\n",
            "\n",
            "Furthermore , when all deliveries were analyzed , regardless of risk status but limited to gestational age > or = 36 weeks , the rates did not change ( 12.6 % , 280 of 2214 ; primary 9.2 % , 183 of 1994 ) \n",
            " O O O O O O O O O O O O O O O O O O O O O O O O O O O O O O O O O O O O O O O O O O O O \n",
            "\n",
            "As the ambient temperature increases , there is an increase in insensible fluid loss and the potential for dehydration \n",
            " O O O O O O O O O O O O O O O O O O O \n",
            "\n",
            "The daily high temperature ranged from 71 to 104 degrees F and AFI values ranged from 1.7 to 24.7 cm during the study period \n",
            " O O O O O O O O O O O O O O O O O O O O O O O O \n",
            "\n",
            "There was a significant correlation between the 2- , 3- , and 4-day mean temperature and AFI , with the 4-day mean being the most significant ( r = 0.31 , p & # 60 ; 0.001 ) \n",
            " O O O O O O O O O O O O O O O O O O O O O O O O O O O O O O O O O O O O O O \n",
            "\n",
            "Fluctuations in ambient temperature are inversely correlated to changes in AFI \n",
            " O O O O O O O O O O O \n",
            "\n"
          ]
        }
      ]
    },
    {
      "cell_type": "markdown",
      "source": [
        "## Count the number of sentences in the processed train and test dataset"
      ],
      "metadata": {
        "id": "uPCYMu-ZUK84"
      }
    },
    {
      "cell_type": "code",
      "source": [
        "print(\"Number of sentences in the train dataset: {}\".format(len(train_sentences)))\n",
        "print(\"Number of sentences in the test dataset: {}\".format(len(test_sentences)))"
      ],
      "metadata": {
        "colab": {
          "base_uri": "https://localhost:8080/"
        },
        "id": "TsoR-EnPURNQ",
        "outputId": "47c84274-5aa7-4350-f54f-b605f8ae2e5f"
      },
      "execution_count": null,
      "outputs": [
        {
          "output_type": "stream",
          "name": "stdout",
          "text": [
            "Number of sentences in the train dataset: 2599\n",
            "Number of sentences in the test dataset: 1056\n"
          ]
        }
      ]
    },
    {
      "cell_type": "markdown",
      "source": [
        "## Count the number of lines of labels in the processed train and test dataset."
      ],
      "metadata": {
        "id": "7BEQqULcUSlC"
      }
    },
    {
      "cell_type": "code",
      "source": [
        "print(\"Number of lines of labels in the train dataset: {}\".format(len(train_labels)))\n",
        "print(\"Number of lines of labels in the test dataset: {}\".format(len(test_labels)))"
      ],
      "metadata": {
        "colab": {
          "base_uri": "https://localhost:8080/"
        },
        "id": "Jl8n62k9UVmU",
        "outputId": "eaba296b-b5e9-4285-fb2d-d99b77091c0d"
      },
      "execution_count": null,
      "outputs": [
        {
          "output_type": "stream",
          "name": "stdout",
          "text": [
            "Number of lines of labels in the train dataset: 2599\n",
            "Number of lines of labels in the test dataset: 1056\n"
          ]
        }
      ]
    },
    {
      "cell_type": "markdown",
      "source": [
        "# Conceptual Identification"
      ],
      "metadata": {
        "id": "sYVvLBHRUWlo"
      }
    },
    {
      "cell_type": "markdown",
      "source": [
        "Utilizing PoS Tagging"
      ],
      "metadata": {
        "id": "uLu7Y8bOUZ8L"
      }
    },
    {
      "cell_type": "markdown",
      "source": [
        "## Extrac those tokens which have NOUN or PROPN as their PoS tag and find their frequency"
      ],
      "metadata": {
        "id": "IPgIcJ9lVQpm"
      }
    },
    {
      "cell_type": "code",
      "source": [
        "# Creating a combined dataset from training and test sentences, since this is an Exploratory analysis.\n",
        "combined = train_sentences + test_sentences\n",
        "print(\"Number of sentences in combined dataset (training + test): {}\".format(len(combined)))"
      ],
      "metadata": {
        "colab": {
          "base_uri": "https://localhost:8080/"
        },
        "id": "kswa86RpVaLn",
        "outputId": "e8b6f11e-e56a-4260-faf4-e73a1cd8e34e"
      },
      "execution_count": null,
      "outputs": [
        {
          "output_type": "stream",
          "name": "stdout",
          "text": [
            "Number of sentences in combined dataset (training + test): 3655\n"
          ]
        }
      ]
    },
    {
      "cell_type": "code",
      "source": [
        "# Creating a list of tokens which have PoS tag of 'NOUN' or 'PROPN'\n",
        "noun_propn = []         # Initiating list for nouns and proper nouns\n",
        "pos_tag = []            # initiating list for corresponding PoS tags.\n",
        "for sent in combined:\n",
        "    for token in model(sent):\n",
        "        if token.pos_ in ['NOUN', 'PROPN']:\n",
        "           noun_propn.append(token.text)\n",
        "           pos_tag.append(token.pos_)\n",
        "print(\"No. of tokens in combined dataset with PoS tag of 'NOUN' or 'PROPN': {}\".format(len(noun_propn)))"
      ],
      "metadata": {
        "colab": {
          "base_uri": "https://localhost:8080/"
        },
        "id": "7gVmq87kVbQj",
        "outputId": "f5ff854f-d868-4038-c70b-b8efb649644d"
      },
      "execution_count": null,
      "outputs": [
        {
          "output_type": "stream",
          "name": "stdout",
          "text": [
            "No. of tokens in combined dataset with PoS tag of 'NOUN' or 'PROPN': 24373\n"
          ]
        }
      ]
    },
    {
      "cell_type": "code",
      "source": [
        "print(len(pos_tag))"
      ],
      "metadata": {
        "colab": {
          "base_uri": "https://localhost:8080/"
        },
        "id": "CkHOrWUZVcZ3",
        "outputId": "63e08252-b6fa-4679-f208-375f20335089"
      },
      "execution_count": null,
      "outputs": [
        {
          "output_type": "stream",
          "name": "stdout",
          "text": [
            "24373\n"
          ]
        }
      ]
    },
    {
      "cell_type": "markdown",
      "source": [
        "## Print the top 25 most common tokens with NOUN or PROPN PoS tags"
      ],
      "metadata": {
        "id": "uABKLe64Vdtw"
      }
    },
    {
      "cell_type": "code",
      "source": [
        "noun_pos = pd.DataFrame({\"NOUN_PROPN\":noun_propn,\"POS_tag\":pos_tag})\n",
        "print(\"Top 25 comon tokens with PoS tag of 'NOUN' or 'PROPN' \\n\")\n",
        "print(noun_pos[\"NOUN_PROPN\"].value_counts().head(25))"
      ],
      "metadata": {
        "colab": {
          "base_uri": "https://localhost:8080/"
        },
        "id": "bK_eYSr3VlBt",
        "outputId": "d64e96e8-549b-46d8-f204-c59fc0dab278"
      },
      "execution_count": null,
      "outputs": [
        {
          "output_type": "stream",
          "name": "stdout",
          "text": [
            "Top 25 comon tokens with PoS tag of 'NOUN' or 'PROPN' \n",
            "\n",
            "NOUN_PROPN\n",
            "patients        492\n",
            "treatment       281\n",
            "%               247\n",
            "cancer          200\n",
            "therapy         175\n",
            "study           154\n",
            "disease         142\n",
            "cell            140\n",
            "lung            116\n",
            "group            94\n",
            "chemotherapy     88\n",
            "gene             87\n",
            "effects          85\n",
            "results          79\n",
            "women            77\n",
            "use              74\n",
            "TO_SEE           74\n",
            "risk             71\n",
            "surgery          71\n",
            "cases            71\n",
            "analysis         70\n",
            "rate             67\n",
            "response         66\n",
            "survival         65\n",
            "children         64\n",
            "Name: count, dtype: int64\n"
          ]
        }
      ]
    },
    {
      "cell_type": "markdown",
      "source": [
        "# Defining features for CRF"
      ],
      "metadata": {
        "id": "GAQBdlvBVl7d"
      }
    },
    {
      "cell_type": "code",
      "source": [
        "# Analysis of PoS tags - Independent assignment for words vs Contextual assignment in a sentence.\n",
        "sentence = train_sentences[1]\n",
        "sent_list = sentence.split()      # Splitting the sentence into its constituent words.\n",
        "position = 2                      # Choosing position of word within sentence. Index starts at 0.\n",
        "\n",
        "word = sent_list[position]        # Extracting word for PoS tag analysis.\n",
        "\n",
        "print(sentence)\n",
        "\n",
        "# Independent assignment of PoS tag (No contextual info)\n",
        "print(\"\\nPoS tag of word in isolation\\nWord:\",word,\"--\",model(word)[0].pos_,\"\\n\")\n",
        "\n",
        "# Contextual assignment of PoS tag based on other words in the sentence.\n",
        "print(\"PoS tag of all words in sentence with context in tact.\")\n",
        "for token in model(sentence):\n",
        "    print(token.text, \"--\", token.pos_)\n",
        "\n",
        "# Modified workflow to obtain PoS tag of specific word in question while keeping sentence context in tact.\n",
        "print(\"\\nResult of modified workflow to obtain PoS tag of word at a specific position while keeping context within sentence in-tact.\")\n",
        "cnt = 0                           # Count of the word position within sentence.\n",
        "for token in model(sentence):\n",
        "      postag = token.pos_\n",
        "      if (token.text == word) and (cnt == position):\n",
        "          break\n",
        "      cnt += 1\n",
        "print(\"Word:\", word,\"POSTAG:\",postag)"
      ],
      "metadata": {
        "colab": {
          "base_uri": "https://localhost:8080/"
        },
        "id": "MA2-7beBVqJl",
        "outputId": "26882ba2-5dd9-4b67-928f-a05e87404ccf"
      },
      "execution_count": null,
      "outputs": [
        {
          "output_type": "stream",
          "name": "stdout",
          "text": [
            "The total cesarean rate was 14.4 % ( 344 of 2395 ) , and the primary rate was 11.4 % ( 244 of 2144 )\n",
            "\n",
            "PoS tag of word in isolation\n",
            "Word: cesarean -- VERB \n",
            "\n",
            "PoS tag of all words in sentence with context in tact.\n",
            "The -- DET\n",
            "total -- ADJ\n",
            "cesarean -- ADJ\n",
            "rate -- NOUN\n",
            "was -- AUX\n",
            "14.4 -- NUM\n",
            "% -- NOUN\n",
            "( -- PUNCT\n",
            "344 -- NUM\n",
            "of -- ADP\n",
            "2395 -- NUM\n",
            ") -- PUNCT\n",
            ", -- PUNCT\n",
            "and -- CCONJ\n",
            "the -- DET\n",
            "primary -- ADJ\n",
            "rate -- NOUN\n",
            "was -- AUX\n",
            "11.4 -- NUM\n",
            "% -- NOUN\n",
            "( -- PUNCT\n",
            "244 -- NUM\n",
            "of -- ADP\n",
            "2144 -- NUM\n",
            ") -- PUNCT\n",
            "\n",
            "Result of modified workflow to obtain PoS tag of word at a specific position while keeping context within sentence in-tact.\n",
            "Word: cesarean POSTAG: ADJ\n"
          ]
        }
      ]
    },
    {
      "cell_type": "markdown",
      "source": [
        "#### As we can see in the analysis above, the PoS tag of the word \"cesarean\" is not captured correctly if the word is considered individually. However, if the word is considered as a part of the sentence, then it is captured correctly. Defining a function below to execute this."
      ],
      "metadata": {
        "id": "f3cGW_stVrZO"
      }
    },
    {
      "cell_type": "code",
      "source": [
        "# Function to obtain contextual PoS tagger.\n",
        "def contextual_pos_tagger(sent_list,position):\n",
        "    '''Obtaining PoS tag for individual word with sentence context in-tact.\n",
        "       If the PoS tag is obtained for a word individually, it may not capture the context of use in the sentence and may assign the incorrect PoS tag.'''\n",
        "\n",
        "    sentence = \" \".join(sent_list)          # Sentence needs to be in string format to process it with spacy model. List of words won't work.\n",
        "    posit = 0                               # Initialising variable to record position of word in joined sentence to compare with the position of the word under considertion.\n",
        "    for token in model(sentence):\n",
        "        postag = token.pos_\n",
        "        if (token.text == word) and (posit == position):\n",
        "            break\n",
        "        posit += 1\n",
        "    return postag"
      ],
      "metadata": {
        "id": "72TxwMGuVwqx"
      },
      "execution_count": null,
      "outputs": []
    },
    {
      "cell_type": "code",
      "source": [
        "# Define the features to get the feature values for one word.\n",
        "def getFeaturesForOneWord(sent_list, position):\n",
        "  word = sent_list[position]\n",
        "\n",
        "  # Obtaining features for current word\n",
        "  features = [\n",
        "    'word.lower=' + word.lower(),                                   # serves as word id\n",
        "    'word.postag=' + contextual_pos_tagger(sent_list, position),    # PoS tag of current word\n",
        "    'word[-3:]=' + word[-3:],                                       # last three characters\n",
        "    'word[-2:]=' + word[-2:],                                       # last two characters\n",
        "    'word.isupper=%s' % word.isupper(),                             # is the word in all uppercase\n",
        "    'word.isdigit=%s' % word.isdigit(),                             # is the word a number\n",
        "    'words.startsWithCapital=%s' % word[0].isupper()                # is the word starting with a capital letter\n",
        "  ]\n",
        "\n",
        "  if(position > 0):\n",
        "    prev_word = sent_list[position-1]\n",
        "    features.extend([\n",
        "    'prev_word.lower=' + prev_word.lower(),                               # previous word\n",
        "    'prev_word.postag=' + contextual_pos_tagger(sent_list, position - 1), # PoS tag of previous word\n",
        "    'prev_word.isupper=%s' % prev_word.isupper(),                         # is the previous word in all uppercase\n",
        "    'prev_word.isdigit=%s' % prev_word.isdigit(),                         # is the previous word a number\n",
        "    'prev_words.startsWithCapital=%s' % prev_word[0].isupper()            # is the previous word starting with a capital letter\n",
        "  ])\n",
        "  else:\n",
        "    features.append('BEG')                                                # feature to track begin of sentence\n",
        "\n",
        "  if(position == len(sent_list)-1):\n",
        "    features.append('END')                                                # feature to track end of sentence\n",
        "\n",
        "  return features"
      ],
      "metadata": {
        "id": "OzlTXs6mVxyl"
      },
      "execution_count": null,
      "outputs": []
    },
    {
      "cell_type": "markdown",
      "source": [
        "## Getting the features"
      ],
      "metadata": {
        "id": "qxZfFQy3Vy3Z"
      }
    },
    {
      "cell_type": "markdown",
      "source": [
        "### Write a code/function to get the features for a sentence"
      ],
      "metadata": {
        "id": "RRTw6PUyV1BZ"
      }
    },
    {
      "cell_type": "code",
      "source": [
        "# Write a code to get features for a sentence.\n",
        "def getFeaturesForOneSentence(sentence):\n",
        "  sentence_list = sentence.split()\n",
        "  return [getFeaturesForOneWord(sentence_list, position) for position in range(len(sentence_list))]"
      ],
      "metadata": {
        "id": "D9rJ7xv5V2z8"
      },
      "execution_count": null,
      "outputs": []
    },
    {
      "cell_type": "code",
      "source": [
        "# Checking feature extraction\n",
        "example_sentence = train_sentences[5]\n",
        "print(example_sentence)\n",
        "\n",
        "features = getFeaturesForOneSentence(example_sentence)\n",
        "features[0]"
      ],
      "metadata": {
        "colab": {
          "base_uri": "https://localhost:8080/"
        },
        "id": "AcWa0VsYV4FL",
        "outputId": "57bd5185-9dd2-4f58-d8d1-4530a4fe481d"
      },
      "execution_count": null,
      "outputs": [
        {
          "output_type": "stream",
          "name": "stdout",
          "text": [
            "Cesarean rates at tertiary care hospitals should be compared with rates at community hospitals only after correcting for dissimilar patient groups or gestational age\n"
          ]
        },
        {
          "output_type": "execute_result",
          "data": {
            "text/plain": [
              "['word.lower=cesarean',\n",
              " 'word.postag=NOUN',\n",
              " 'word[-3:]=ean',\n",
              " 'word[-2:]=an',\n",
              " 'word.isupper=False',\n",
              " 'word.isdigit=False',\n",
              " 'words.startsWithCapital=True',\n",
              " 'BEG']"
            ]
          },
          "metadata": {},
          "execution_count": 26
        }
      ]
    },
    {
      "cell_type": "code",
      "source": [
        "features[4]"
      ],
      "metadata": {
        "colab": {
          "base_uri": "https://localhost:8080/"
        },
        "id": "3RajR7byV4_7",
        "outputId": "cd6d0796-8f41-4aa3-889e-8d5e54a76490"
      },
      "execution_count": null,
      "outputs": [
        {
          "output_type": "execute_result",
          "data": {
            "text/plain": [
              "['word.lower=care',\n",
              " 'word.postag=NOUN',\n",
              " 'word[-3:]=are',\n",
              " 'word[-2:]=re',\n",
              " 'word.isupper=False',\n",
              " 'word.isdigit=False',\n",
              " 'words.startsWithCapital=False',\n",
              " 'prev_word.lower=tertiary',\n",
              " 'prev_word.postag=NOUN',\n",
              " 'prev_word.isupper=False',\n",
              " 'prev_word.isdigit=False',\n",
              " 'prev_words.startsWithCapital=False']"
            ]
          },
          "metadata": {},
          "execution_count": 27
        }
      ]
    },
    {
      "cell_type": "code",
      "source": [
        "### Write a code/function to get the labels of a sentence"
      ],
      "metadata": {
        "id": "cb7CW3T1V6S_"
      },
      "execution_count": null,
      "outputs": []
    },
    {
      "cell_type": "code",
      "source": [
        "# Write a code to get the labels for a sentence.\n",
        "def getLabelsInListForOneSentence(labels):\n",
        "  return labels.split()"
      ],
      "metadata": {
        "id": "-zoCGLy7V7ed"
      },
      "execution_count": null,
      "outputs": []
    },
    {
      "cell_type": "code",
      "source": [
        "# Checking label extraction\n",
        "example_labels = getLabelsInListForOneSentence(train_labels[5])\n",
        "print(example_labels)"
      ],
      "metadata": {
        "colab": {
          "base_uri": "https://localhost:8080/"
        },
        "id": "XyJQQYkGV8kk",
        "outputId": "1246b84d-bc93-4a85-8e1b-043ff8d376f7"
      },
      "execution_count": null,
      "outputs": [
        {
          "output_type": "stream",
          "name": "stdout",
          "text": [
            "['O', 'O', 'O', 'O', 'O', 'O', 'O', 'O', 'O', 'O', 'O', 'O', 'O', 'O', 'O', 'O', 'O', 'O', 'O', 'O', 'O', 'O', 'O', 'O']\n"
          ]
        }
      ]
    },
    {
      "cell_type": "markdown",
      "source": [
        "## Define input and target variables\n"
      ],
      "metadata": {
        "id": "P5y8ZSStV92d"
      }
    },
    {
      "cell_type": "markdown",
      "source": [
        "Correctly computing X and Y sequence matrices for training and test data.\n",
        "Check that both sentences and labels are processed"
      ],
      "metadata": {
        "id": "vwUWthanV_eN"
      }
    },
    {
      "cell_type": "markdown",
      "source": [
        "### Define the features' values for each sentence as input variable  for CRF model in test and the train dataset"
      ],
      "metadata": {
        "id": "iENVi9u6WERp"
      }
    },
    {
      "cell_type": "code",
      "source": [
        "X_train = [getFeaturesForOneSentence(sentence) for sentence in train_sentences]\n",
        "X_test = [getFeaturesForOneSentence(sentence) for sentence in test_sentences]"
      ],
      "metadata": {
        "id": "ES2XHsTHWEpn"
      },
      "execution_count": null,
      "outputs": []
    },
    {
      "cell_type": "markdown",
      "source": [
        "### Define the labels as the target variable for test and the train dataset"
      ],
      "metadata": {
        "id": "NhUXox2fWGmU"
      }
    },
    {
      "cell_type": "code",
      "source": [
        "Y_train = [getLabelsInListForOneSentence(labels) for labels in train_labels]\n",
        "Y_test = [getLabelsInListForOneSentence(labels) for labels in test_labels]"
      ],
      "metadata": {
        "id": "ALpauAmLWKHT"
      },
      "execution_count": null,
      "outputs": []
    },
    {
      "cell_type": "markdown",
      "source": [
        "## Build the CRF Model"
      ],
      "metadata": {
        "id": "ADnrTtt_a5NE"
      }
    },
    {
      "cell_type": "code",
      "source": [
        "# Building the CRF model. Using max_iterations as 200.\n",
        "crf = sklearn_crfsuite.CRF(max_iterations=300)\n",
        "\n",
        "crf.fit(X_train, Y_train)"
      ],
      "metadata": {
        "colab": {
          "base_uri": "https://localhost:8080/",
          "height": 80
        },
        "id": "oyZ1JbmQa535",
        "outputId": "ee271dc3-1e7d-436c-808a-08ce31418973"
      },
      "execution_count": null,
      "outputs": [
        {
          "output_type": "execute_result",
          "data": {
            "text/plain": [
              "CRF(max_iterations=300)"
            ],
            "text/html": [
              "<style>#sk-container-id-1 {\n",
              "  /* Definition of color scheme common for light and dark mode */\n",
              "  --sklearn-color-text: black;\n",
              "  --sklearn-color-line: gray;\n",
              "  /* Definition of color scheme for unfitted estimators */\n",
              "  --sklearn-color-unfitted-level-0: #fff5e6;\n",
              "  --sklearn-color-unfitted-level-1: #f6e4d2;\n",
              "  --sklearn-color-unfitted-level-2: #ffe0b3;\n",
              "  --sklearn-color-unfitted-level-3: chocolate;\n",
              "  /* Definition of color scheme for fitted estimators */\n",
              "  --sklearn-color-fitted-level-0: #f0f8ff;\n",
              "  --sklearn-color-fitted-level-1: #d4ebff;\n",
              "  --sklearn-color-fitted-level-2: #b3dbfd;\n",
              "  --sklearn-color-fitted-level-3: cornflowerblue;\n",
              "\n",
              "  /* Specific color for light theme */\n",
              "  --sklearn-color-text-on-default-background: var(--sg-text-color, var(--theme-code-foreground, var(--jp-content-font-color1, black)));\n",
              "  --sklearn-color-background: var(--sg-background-color, var(--theme-background, var(--jp-layout-color0, white)));\n",
              "  --sklearn-color-border-box: var(--sg-text-color, var(--theme-code-foreground, var(--jp-content-font-color1, black)));\n",
              "  --sklearn-color-icon: #696969;\n",
              "\n",
              "  @media (prefers-color-scheme: dark) {\n",
              "    /* Redefinition of color scheme for dark theme */\n",
              "    --sklearn-color-text-on-default-background: var(--sg-text-color, var(--theme-code-foreground, var(--jp-content-font-color1, white)));\n",
              "    --sklearn-color-background: var(--sg-background-color, var(--theme-background, var(--jp-layout-color0, #111)));\n",
              "    --sklearn-color-border-box: var(--sg-text-color, var(--theme-code-foreground, var(--jp-content-font-color1, white)));\n",
              "    --sklearn-color-icon: #878787;\n",
              "  }\n",
              "}\n",
              "\n",
              "#sk-container-id-1 {\n",
              "  color: var(--sklearn-color-text);\n",
              "}\n",
              "\n",
              "#sk-container-id-1 pre {\n",
              "  padding: 0;\n",
              "}\n",
              "\n",
              "#sk-container-id-1 input.sk-hidden--visually {\n",
              "  border: 0;\n",
              "  clip: rect(1px 1px 1px 1px);\n",
              "  clip: rect(1px, 1px, 1px, 1px);\n",
              "  height: 1px;\n",
              "  margin: -1px;\n",
              "  overflow: hidden;\n",
              "  padding: 0;\n",
              "  position: absolute;\n",
              "  width: 1px;\n",
              "}\n",
              "\n",
              "#sk-container-id-1 div.sk-dashed-wrapped {\n",
              "  border: 1px dashed var(--sklearn-color-line);\n",
              "  margin: 0 0.4em 0.5em 0.4em;\n",
              "  box-sizing: border-box;\n",
              "  padding-bottom: 0.4em;\n",
              "  background-color: var(--sklearn-color-background);\n",
              "}\n",
              "\n",
              "#sk-container-id-1 div.sk-container {\n",
              "  /* jupyter's `normalize.less` sets `[hidden] { display: none; }`\n",
              "     but bootstrap.min.css set `[hidden] { display: none !important; }`\n",
              "     so we also need the `!important` here to be able to override the\n",
              "     default hidden behavior on the sphinx rendered scikit-learn.org.\n",
              "     See: https://github.com/scikit-learn/scikit-learn/issues/21755 */\n",
              "  display: inline-block !important;\n",
              "  position: relative;\n",
              "}\n",
              "\n",
              "#sk-container-id-1 div.sk-text-repr-fallback {\n",
              "  display: none;\n",
              "}\n",
              "\n",
              "div.sk-parallel-item,\n",
              "div.sk-serial,\n",
              "div.sk-item {\n",
              "  /* draw centered vertical line to link estimators */\n",
              "  background-image: linear-gradient(var(--sklearn-color-text-on-default-background), var(--sklearn-color-text-on-default-background));\n",
              "  background-size: 2px 100%;\n",
              "  background-repeat: no-repeat;\n",
              "  background-position: center center;\n",
              "}\n",
              "\n",
              "/* Parallel-specific style estimator block */\n",
              "\n",
              "#sk-container-id-1 div.sk-parallel-item::after {\n",
              "  content: \"\";\n",
              "  width: 100%;\n",
              "  border-bottom: 2px solid var(--sklearn-color-text-on-default-background);\n",
              "  flex-grow: 1;\n",
              "}\n",
              "\n",
              "#sk-container-id-1 div.sk-parallel {\n",
              "  display: flex;\n",
              "  align-items: stretch;\n",
              "  justify-content: center;\n",
              "  background-color: var(--sklearn-color-background);\n",
              "  position: relative;\n",
              "}\n",
              "\n",
              "#sk-container-id-1 div.sk-parallel-item {\n",
              "  display: flex;\n",
              "  flex-direction: column;\n",
              "}\n",
              "\n",
              "#sk-container-id-1 div.sk-parallel-item:first-child::after {\n",
              "  align-self: flex-end;\n",
              "  width: 50%;\n",
              "}\n",
              "\n",
              "#sk-container-id-1 div.sk-parallel-item:last-child::after {\n",
              "  align-self: flex-start;\n",
              "  width: 50%;\n",
              "}\n",
              "\n",
              "#sk-container-id-1 div.sk-parallel-item:only-child::after {\n",
              "  width: 0;\n",
              "}\n",
              "\n",
              "/* Serial-specific style estimator block */\n",
              "\n",
              "#sk-container-id-1 div.sk-serial {\n",
              "  display: flex;\n",
              "  flex-direction: column;\n",
              "  align-items: center;\n",
              "  background-color: var(--sklearn-color-background);\n",
              "  padding-right: 1em;\n",
              "  padding-left: 1em;\n",
              "}\n",
              "\n",
              "\n",
              "/* Toggleable style: style used for estimator/Pipeline/ColumnTransformer box that is\n",
              "clickable and can be expanded/collapsed.\n",
              "- Pipeline and ColumnTransformer use this feature and define the default style\n",
              "- Estimators will overwrite some part of the style using the `sk-estimator` class\n",
              "*/\n",
              "\n",
              "/* Pipeline and ColumnTransformer style (default) */\n",
              "\n",
              "#sk-container-id-1 div.sk-toggleable {\n",
              "  /* Default theme specific background. It is overwritten whether we have a\n",
              "  specific estimator or a Pipeline/ColumnTransformer */\n",
              "  background-color: var(--sklearn-color-background);\n",
              "}\n",
              "\n",
              "/* Toggleable label */\n",
              "#sk-container-id-1 label.sk-toggleable__label {\n",
              "  cursor: pointer;\n",
              "  display: block;\n",
              "  width: 100%;\n",
              "  margin-bottom: 0;\n",
              "  padding: 0.5em;\n",
              "  box-sizing: border-box;\n",
              "  text-align: center;\n",
              "}\n",
              "\n",
              "#sk-container-id-1 label.sk-toggleable__label-arrow:before {\n",
              "  /* Arrow on the left of the label */\n",
              "  content: \"▸\";\n",
              "  float: left;\n",
              "  margin-right: 0.25em;\n",
              "  color: var(--sklearn-color-icon);\n",
              "}\n",
              "\n",
              "#sk-container-id-1 label.sk-toggleable__label-arrow:hover:before {\n",
              "  color: var(--sklearn-color-text);\n",
              "}\n",
              "\n",
              "/* Toggleable content - dropdown */\n",
              "\n",
              "#sk-container-id-1 div.sk-toggleable__content {\n",
              "  max-height: 0;\n",
              "  max-width: 0;\n",
              "  overflow: hidden;\n",
              "  text-align: left;\n",
              "  /* unfitted */\n",
              "  background-color: var(--sklearn-color-unfitted-level-0);\n",
              "}\n",
              "\n",
              "#sk-container-id-1 div.sk-toggleable__content.fitted {\n",
              "  /* fitted */\n",
              "  background-color: var(--sklearn-color-fitted-level-0);\n",
              "}\n",
              "\n",
              "#sk-container-id-1 div.sk-toggleable__content pre {\n",
              "  margin: 0.2em;\n",
              "  border-radius: 0.25em;\n",
              "  color: var(--sklearn-color-text);\n",
              "  /* unfitted */\n",
              "  background-color: var(--sklearn-color-unfitted-level-0);\n",
              "}\n",
              "\n",
              "#sk-container-id-1 div.sk-toggleable__content.fitted pre {\n",
              "  /* unfitted */\n",
              "  background-color: var(--sklearn-color-fitted-level-0);\n",
              "}\n",
              "\n",
              "#sk-container-id-1 input.sk-toggleable__control:checked~div.sk-toggleable__content {\n",
              "  /* Expand drop-down */\n",
              "  max-height: 200px;\n",
              "  max-width: 100%;\n",
              "  overflow: auto;\n",
              "}\n",
              "\n",
              "#sk-container-id-1 input.sk-toggleable__control:checked~label.sk-toggleable__label-arrow:before {\n",
              "  content: \"▾\";\n",
              "}\n",
              "\n",
              "/* Pipeline/ColumnTransformer-specific style */\n",
              "\n",
              "#sk-container-id-1 div.sk-label input.sk-toggleable__control:checked~label.sk-toggleable__label {\n",
              "  color: var(--sklearn-color-text);\n",
              "  background-color: var(--sklearn-color-unfitted-level-2);\n",
              "}\n",
              "\n",
              "#sk-container-id-1 div.sk-label.fitted input.sk-toggleable__control:checked~label.sk-toggleable__label {\n",
              "  background-color: var(--sklearn-color-fitted-level-2);\n",
              "}\n",
              "\n",
              "/* Estimator-specific style */\n",
              "\n",
              "/* Colorize estimator box */\n",
              "#sk-container-id-1 div.sk-estimator input.sk-toggleable__control:checked~label.sk-toggleable__label {\n",
              "  /* unfitted */\n",
              "  background-color: var(--sklearn-color-unfitted-level-2);\n",
              "}\n",
              "\n",
              "#sk-container-id-1 div.sk-estimator.fitted input.sk-toggleable__control:checked~label.sk-toggleable__label {\n",
              "  /* fitted */\n",
              "  background-color: var(--sklearn-color-fitted-level-2);\n",
              "}\n",
              "\n",
              "#sk-container-id-1 div.sk-label label.sk-toggleable__label,\n",
              "#sk-container-id-1 div.sk-label label {\n",
              "  /* The background is the default theme color */\n",
              "  color: var(--sklearn-color-text-on-default-background);\n",
              "}\n",
              "\n",
              "/* On hover, darken the color of the background */\n",
              "#sk-container-id-1 div.sk-label:hover label.sk-toggleable__label {\n",
              "  color: var(--sklearn-color-text);\n",
              "  background-color: var(--sklearn-color-unfitted-level-2);\n",
              "}\n",
              "\n",
              "/* Label box, darken color on hover, fitted */\n",
              "#sk-container-id-1 div.sk-label.fitted:hover label.sk-toggleable__label.fitted {\n",
              "  color: var(--sklearn-color-text);\n",
              "  background-color: var(--sklearn-color-fitted-level-2);\n",
              "}\n",
              "\n",
              "/* Estimator label */\n",
              "\n",
              "#sk-container-id-1 div.sk-label label {\n",
              "  font-family: monospace;\n",
              "  font-weight: bold;\n",
              "  display: inline-block;\n",
              "  line-height: 1.2em;\n",
              "}\n",
              "\n",
              "#sk-container-id-1 div.sk-label-container {\n",
              "  text-align: center;\n",
              "}\n",
              "\n",
              "/* Estimator-specific */\n",
              "#sk-container-id-1 div.sk-estimator {\n",
              "  font-family: monospace;\n",
              "  border: 1px dotted var(--sklearn-color-border-box);\n",
              "  border-radius: 0.25em;\n",
              "  box-sizing: border-box;\n",
              "  margin-bottom: 0.5em;\n",
              "  /* unfitted */\n",
              "  background-color: var(--sklearn-color-unfitted-level-0);\n",
              "}\n",
              "\n",
              "#sk-container-id-1 div.sk-estimator.fitted {\n",
              "  /* fitted */\n",
              "  background-color: var(--sklearn-color-fitted-level-0);\n",
              "}\n",
              "\n",
              "/* on hover */\n",
              "#sk-container-id-1 div.sk-estimator:hover {\n",
              "  /* unfitted */\n",
              "  background-color: var(--sklearn-color-unfitted-level-2);\n",
              "}\n",
              "\n",
              "#sk-container-id-1 div.sk-estimator.fitted:hover {\n",
              "  /* fitted */\n",
              "  background-color: var(--sklearn-color-fitted-level-2);\n",
              "}\n",
              "\n",
              "/* Specification for estimator info (e.g. \"i\" and \"?\") */\n",
              "\n",
              "/* Common style for \"i\" and \"?\" */\n",
              "\n",
              ".sk-estimator-doc-link,\n",
              "a:link.sk-estimator-doc-link,\n",
              "a:visited.sk-estimator-doc-link {\n",
              "  float: right;\n",
              "  font-size: smaller;\n",
              "  line-height: 1em;\n",
              "  font-family: monospace;\n",
              "  background-color: var(--sklearn-color-background);\n",
              "  border-radius: 1em;\n",
              "  height: 1em;\n",
              "  width: 1em;\n",
              "  text-decoration: none !important;\n",
              "  margin-left: 1ex;\n",
              "  /* unfitted */\n",
              "  border: var(--sklearn-color-unfitted-level-1) 1pt solid;\n",
              "  color: var(--sklearn-color-unfitted-level-1);\n",
              "}\n",
              "\n",
              ".sk-estimator-doc-link.fitted,\n",
              "a:link.sk-estimator-doc-link.fitted,\n",
              "a:visited.sk-estimator-doc-link.fitted {\n",
              "  /* fitted */\n",
              "  border: var(--sklearn-color-fitted-level-1) 1pt solid;\n",
              "  color: var(--sklearn-color-fitted-level-1);\n",
              "}\n",
              "\n",
              "/* On hover */\n",
              "div.sk-estimator:hover .sk-estimator-doc-link:hover,\n",
              ".sk-estimator-doc-link:hover,\n",
              "div.sk-label-container:hover .sk-estimator-doc-link:hover,\n",
              ".sk-estimator-doc-link:hover {\n",
              "  /* unfitted */\n",
              "  background-color: var(--sklearn-color-unfitted-level-3);\n",
              "  color: var(--sklearn-color-background);\n",
              "  text-decoration: none;\n",
              "}\n",
              "\n",
              "div.sk-estimator.fitted:hover .sk-estimator-doc-link.fitted:hover,\n",
              ".sk-estimator-doc-link.fitted:hover,\n",
              "div.sk-label-container:hover .sk-estimator-doc-link.fitted:hover,\n",
              ".sk-estimator-doc-link.fitted:hover {\n",
              "  /* fitted */\n",
              "  background-color: var(--sklearn-color-fitted-level-3);\n",
              "  color: var(--sklearn-color-background);\n",
              "  text-decoration: none;\n",
              "}\n",
              "\n",
              "/* Span, style for the box shown on hovering the info icon */\n",
              ".sk-estimator-doc-link span {\n",
              "  display: none;\n",
              "  z-index: 9999;\n",
              "  position: relative;\n",
              "  font-weight: normal;\n",
              "  right: .2ex;\n",
              "  padding: .5ex;\n",
              "  margin: .5ex;\n",
              "  width: min-content;\n",
              "  min-width: 20ex;\n",
              "  max-width: 50ex;\n",
              "  color: var(--sklearn-color-text);\n",
              "  box-shadow: 2pt 2pt 4pt #999;\n",
              "  /* unfitted */\n",
              "  background: var(--sklearn-color-unfitted-level-0);\n",
              "  border: .5pt solid var(--sklearn-color-unfitted-level-3);\n",
              "}\n",
              "\n",
              ".sk-estimator-doc-link.fitted span {\n",
              "  /* fitted */\n",
              "  background: var(--sklearn-color-fitted-level-0);\n",
              "  border: var(--sklearn-color-fitted-level-3);\n",
              "}\n",
              "\n",
              ".sk-estimator-doc-link:hover span {\n",
              "  display: block;\n",
              "}\n",
              "\n",
              "/* \"?\"-specific style due to the `<a>` HTML tag */\n",
              "\n",
              "#sk-container-id-1 a.estimator_doc_link {\n",
              "  float: right;\n",
              "  font-size: 1rem;\n",
              "  line-height: 1em;\n",
              "  font-family: monospace;\n",
              "  background-color: var(--sklearn-color-background);\n",
              "  border-radius: 1rem;\n",
              "  height: 1rem;\n",
              "  width: 1rem;\n",
              "  text-decoration: none;\n",
              "  /* unfitted */\n",
              "  color: var(--sklearn-color-unfitted-level-1);\n",
              "  border: var(--sklearn-color-unfitted-level-1) 1pt solid;\n",
              "}\n",
              "\n",
              "#sk-container-id-1 a.estimator_doc_link.fitted {\n",
              "  /* fitted */\n",
              "  border: var(--sklearn-color-fitted-level-1) 1pt solid;\n",
              "  color: var(--sklearn-color-fitted-level-1);\n",
              "}\n",
              "\n",
              "/* On hover */\n",
              "#sk-container-id-1 a.estimator_doc_link:hover {\n",
              "  /* unfitted */\n",
              "  background-color: var(--sklearn-color-unfitted-level-3);\n",
              "  color: var(--sklearn-color-background);\n",
              "  text-decoration: none;\n",
              "}\n",
              "\n",
              "#sk-container-id-1 a.estimator_doc_link.fitted:hover {\n",
              "  /* fitted */\n",
              "  background-color: var(--sklearn-color-fitted-level-3);\n",
              "}\n",
              "</style><div id=\"sk-container-id-1\" class=\"sk-top-container\"><div class=\"sk-text-repr-fallback\"><pre>CRF(max_iterations=300)</pre><b>In a Jupyter environment, please rerun this cell to show the HTML representation or trust the notebook. <br />On GitHub, the HTML representation is unable to render, please try loading this page with nbviewer.org.</b></div><div class=\"sk-container\" hidden><div class=\"sk-item\"><div class=\"sk-estimator fitted sk-toggleable\"><input class=\"sk-toggleable__control sk-hidden--visually\" id=\"sk-estimator-id-1\" type=\"checkbox\" checked><label for=\"sk-estimator-id-1\" class=\"sk-toggleable__label fitted sk-toggleable__label-arrow fitted\">&nbsp;CRF<span class=\"sk-estimator-doc-link fitted\">i<span>Fitted</span></span></label><div class=\"sk-toggleable__content fitted\"><pre>CRF(max_iterations=300)</pre></div> </div></div></div></div>"
            ]
          },
          "metadata": {},
          "execution_count": 35
        }
      ]
    },
    {
      "cell_type": "markdown",
      "source": [
        "## Evaluation"
      ],
      "metadata": {
        "id": "yyqzZFuGa69G"
      }
    },
    {
      "cell_type": "markdown",
      "source": [
        "### Predict the labels of each of the tokens in each sentence of the test dataset that has been pre processed earlier."
      ],
      "metadata": {
        "id": "VzPAICi4a87N"
      }
    },
    {
      "cell_type": "code",
      "source": [
        "Y_pred = crf.predict(X_test)"
      ],
      "metadata": {
        "id": "ic9LuZ-oa-s5"
      },
      "execution_count": null,
      "outputs": []
    },
    {
      "cell_type": "markdown",
      "source": [
        "### Calculate the f1 score using the actual labels and the predicted labels of the test dataset."
      ],
      "metadata": {
        "id": "ZEUwB2_xa_hB"
      }
    },
    {
      "cell_type": "markdown",
      "source": [
        "- An f1-score of nearly 91% is fairly decent.\n",
        "- We shall proceed with this CRF model."
      ],
      "metadata": {
        "id": "DA6OhNMObA6l"
      }
    },
    {
      "cell_type": "code",
      "source": [
        "# Example test sentence and corresponding actual and predicted labels\n",
        "print(\"Sentence: \",test_sentences[13])\n",
        "print(\"Actual labels:    \", Y_test[13])\n",
        "print(\"Predicted labels: \", Y_pred[13])"
      ],
      "metadata": {
        "colab": {
          "base_uri": "https://localhost:8080/"
        },
        "id": "ysOV6g7HbCWt",
        "outputId": "040ef3e6-62bf-40d3-95de-3cfd6929bf5a"
      },
      "execution_count": null,
      "outputs": [
        {
          "output_type": "stream",
          "name": "stdout",
          "text": [
            "Sentence:  The objective of this study was to determine if the rate of preeclampsia is increased in triplet as compared to twin gestations\n",
            "Actual labels:     ['O', 'O', 'O', 'O', 'O', 'O', 'O', 'O', 'O', 'O', 'O', 'O', 'D', 'O', 'O', 'O', 'O', 'O', 'O', 'O', 'O', 'O']\n",
            "Predicted labels:  ['O', 'O', 'O', 'O', 'O', 'O', 'O', 'O', 'O', 'O', 'O', 'O', 'D', 'O', 'O', 'O', 'O', 'O', 'O', 'O', 'O', 'O']\n"
          ]
        }
      ]
    },
    {
      "cell_type": "code",
      "source": [
        "# Feature list of sentence above\n",
        "print(X_test[13])"
      ],
      "metadata": {
        "colab": {
          "base_uri": "https://localhost:8080/"
        },
        "id": "vDjhKEQDbDQt",
        "outputId": "39f8081d-060d-4390-fd45-109cc666d3f2"
      },
      "execution_count": null,
      "outputs": [
        {
          "output_type": "stream",
          "name": "stdout",
          "text": [
            "[['word.lower=the', 'word.postag=NOUN', 'word[-3:]=The', 'word[-2:]=he', 'word.isupper=False', 'word.isdigit=False', 'words.startsWithCapital=True', 'BEG'], ['word.lower=objective', 'word.postag=NOUN', 'word[-3:]=ive', 'word[-2:]=ve', 'word.isupper=False', 'word.isdigit=False', 'words.startsWithCapital=False', 'prev_word.lower=the', 'prev_word.postag=NOUN', 'prev_word.isupper=False', 'prev_word.isdigit=False', 'prev_words.startsWithCapital=True'], ['word.lower=of', 'word.postag=NOUN', 'word[-3:]=of', 'word[-2:]=of', 'word.isupper=False', 'word.isdigit=False', 'words.startsWithCapital=False', 'prev_word.lower=objective', 'prev_word.postag=NOUN', 'prev_word.isupper=False', 'prev_word.isdigit=False', 'prev_words.startsWithCapital=False'], ['word.lower=this', 'word.postag=NOUN', 'word[-3:]=his', 'word[-2:]=is', 'word.isupper=False', 'word.isdigit=False', 'words.startsWithCapital=False', 'prev_word.lower=of', 'prev_word.postag=NOUN', 'prev_word.isupper=False', 'prev_word.isdigit=False', 'prev_words.startsWithCapital=False'], ['word.lower=study', 'word.postag=NOUN', 'word[-3:]=udy', 'word[-2:]=dy', 'word.isupper=False', 'word.isdigit=False', 'words.startsWithCapital=False', 'prev_word.lower=this', 'prev_word.postag=NOUN', 'prev_word.isupper=False', 'prev_word.isdigit=False', 'prev_words.startsWithCapital=False'], ['word.lower=was', 'word.postag=NOUN', 'word[-3:]=was', 'word[-2:]=as', 'word.isupper=False', 'word.isdigit=False', 'words.startsWithCapital=False', 'prev_word.lower=study', 'prev_word.postag=NOUN', 'prev_word.isupper=False', 'prev_word.isdigit=False', 'prev_words.startsWithCapital=False'], ['word.lower=to', 'word.postag=NOUN', 'word[-3:]=to', 'word[-2:]=to', 'word.isupper=False', 'word.isdigit=False', 'words.startsWithCapital=False', 'prev_word.lower=was', 'prev_word.postag=NOUN', 'prev_word.isupper=False', 'prev_word.isdigit=False', 'prev_words.startsWithCapital=False'], ['word.lower=determine', 'word.postag=NOUN', 'word[-3:]=ine', 'word[-2:]=ne', 'word.isupper=False', 'word.isdigit=False', 'words.startsWithCapital=False', 'prev_word.lower=to', 'prev_word.postag=NOUN', 'prev_word.isupper=False', 'prev_word.isdigit=False', 'prev_words.startsWithCapital=False'], ['word.lower=if', 'word.postag=NOUN', 'word[-3:]=if', 'word[-2:]=if', 'word.isupper=False', 'word.isdigit=False', 'words.startsWithCapital=False', 'prev_word.lower=determine', 'prev_word.postag=NOUN', 'prev_word.isupper=False', 'prev_word.isdigit=False', 'prev_words.startsWithCapital=False'], ['word.lower=the', 'word.postag=NOUN', 'word[-3:]=the', 'word[-2:]=he', 'word.isupper=False', 'word.isdigit=False', 'words.startsWithCapital=False', 'prev_word.lower=if', 'prev_word.postag=NOUN', 'prev_word.isupper=False', 'prev_word.isdigit=False', 'prev_words.startsWithCapital=False'], ['word.lower=rate', 'word.postag=NOUN', 'word[-3:]=ate', 'word[-2:]=te', 'word.isupper=False', 'word.isdigit=False', 'words.startsWithCapital=False', 'prev_word.lower=the', 'prev_word.postag=NOUN', 'prev_word.isupper=False', 'prev_word.isdigit=False', 'prev_words.startsWithCapital=False'], ['word.lower=of', 'word.postag=NOUN', 'word[-3:]=of', 'word[-2:]=of', 'word.isupper=False', 'word.isdigit=False', 'words.startsWithCapital=False', 'prev_word.lower=rate', 'prev_word.postag=NOUN', 'prev_word.isupper=False', 'prev_word.isdigit=False', 'prev_words.startsWithCapital=False'], ['word.lower=preeclampsia', 'word.postag=NOUN', 'word[-3:]=sia', 'word[-2:]=ia', 'word.isupper=False', 'word.isdigit=False', 'words.startsWithCapital=False', 'prev_word.lower=of', 'prev_word.postag=NOUN', 'prev_word.isupper=False', 'prev_word.isdigit=False', 'prev_words.startsWithCapital=False'], ['word.lower=is', 'word.postag=NOUN', 'word[-3:]=is', 'word[-2:]=is', 'word.isupper=False', 'word.isdigit=False', 'words.startsWithCapital=False', 'prev_word.lower=preeclampsia', 'prev_word.postag=NOUN', 'prev_word.isupper=False', 'prev_word.isdigit=False', 'prev_words.startsWithCapital=False'], ['word.lower=increased', 'word.postag=NOUN', 'word[-3:]=sed', 'word[-2:]=ed', 'word.isupper=False', 'word.isdigit=False', 'words.startsWithCapital=False', 'prev_word.lower=is', 'prev_word.postag=NOUN', 'prev_word.isupper=False', 'prev_word.isdigit=False', 'prev_words.startsWithCapital=False'], ['word.lower=in', 'word.postag=NOUN', 'word[-3:]=in', 'word[-2:]=in', 'word.isupper=False', 'word.isdigit=False', 'words.startsWithCapital=False', 'prev_word.lower=increased', 'prev_word.postag=NOUN', 'prev_word.isupper=False', 'prev_word.isdigit=False', 'prev_words.startsWithCapital=False'], ['word.lower=triplet', 'word.postag=NOUN', 'word[-3:]=let', 'word[-2:]=et', 'word.isupper=False', 'word.isdigit=False', 'words.startsWithCapital=False', 'prev_word.lower=in', 'prev_word.postag=NOUN', 'prev_word.isupper=False', 'prev_word.isdigit=False', 'prev_words.startsWithCapital=False'], ['word.lower=as', 'word.postag=NOUN', 'word[-3:]=as', 'word[-2:]=as', 'word.isupper=False', 'word.isdigit=False', 'words.startsWithCapital=False', 'prev_word.lower=triplet', 'prev_word.postag=NOUN', 'prev_word.isupper=False', 'prev_word.isdigit=False', 'prev_words.startsWithCapital=False'], ['word.lower=compared', 'word.postag=NOUN', 'word[-3:]=red', 'word[-2:]=ed', 'word.isupper=False', 'word.isdigit=False', 'words.startsWithCapital=False', 'prev_word.lower=as', 'prev_word.postag=NOUN', 'prev_word.isupper=False', 'prev_word.isdigit=False', 'prev_words.startsWithCapital=False'], ['word.lower=to', 'word.postag=NOUN', 'word[-3:]=to', 'word[-2:]=to', 'word.isupper=False', 'word.isdigit=False', 'words.startsWithCapital=False', 'prev_word.lower=compared', 'prev_word.postag=NOUN', 'prev_word.isupper=False', 'prev_word.isdigit=False', 'prev_words.startsWithCapital=False'], ['word.lower=twin', 'word.postag=NOUN', 'word[-3:]=win', 'word[-2:]=in', 'word.isupper=False', 'word.isdigit=False', 'words.startsWithCapital=False', 'prev_word.lower=to', 'prev_word.postag=NOUN', 'prev_word.isupper=False', 'prev_word.isdigit=False', 'prev_words.startsWithCapital=False'], ['word.lower=gestations', 'word.postag=NOUN', 'word[-3:]=ons', 'word[-2:]=ns', 'word.isupper=False', 'word.isdigit=False', 'words.startsWithCapital=False', 'prev_word.lower=twin', 'prev_word.postag=NOUN', 'prev_word.isupper=False', 'prev_word.isdigit=False', 'prev_words.startsWithCapital=False', 'END']]\n"
          ]
        }
      ]
    },
    {
      "cell_type": "markdown",
      "source": [
        "## Identifying Diseases and Treatments using Custom NER\n",
        "\n",
        "We now use the CRF model's prediction to prepare a record of diseases identified in the corpus and treatments used for the diseases.\n",
        "\n"
      ],
      "metadata": {
        "id": "kL2fhpgdbEvr"
      }
    },
    {
      "cell_type": "markdown",
      "source": [
        "### Create the logic to get all the predicted treatments (T) labels corresponding to each disease (D) label in the test dataset."
      ],
      "metadata": {
        "id": "U2eRCtm5bGHj"
      }
    },
    {
      "cell_type": "code",
      "source": [
        "# insert images"
      ],
      "metadata": {
        "id": "H14H0rCfbIpc"
      },
      "execution_count": null,
      "outputs": []
    },
    {
      "cell_type": "code",
      "source": [
        "# Extracting a dictionary of all the predicted diseases from our test data and the corresponding treatments.\n",
        "# Assumption: For each identified disease, one of the treatments is in the same sentence as the disease exists.\n",
        "disease_treatment = {}            # Initializing an empty dictionary\n",
        "for i in range(len(Y_pred)):\n",
        "    cnt_disease = 0           # Count of number of diseases mentioned in the sentence\n",
        "    cnt_treatment = 0         # Count of the number of treatments mentioned in the sentence\n",
        "    diseases = [\"\"]           # Initializing a blank list of diseases for current sentence.\n",
        "    treatment = [\"\"]          # Initializing a blank list of treatments for current sentence.\n",
        "    length = len(Y_pred[i])   # Length of current sentence.\n",
        "    for j in range(length):\n",
        "        if (Y_pred[i][j] == 'D'):                                                     # Checking for label indicating disease for current word ('D')\n",
        "            diseases[cnt_disease] += (X_test[i][j][0].split('=')[1] + \" \")            # Adding word to diseases list.\n",
        "            if j < length - 1:\n",
        "                if (Y_pred[i][j+1] != 'D'):                                           # Check for name of disease extending over multiple words.\n",
        "                    # If next word does not have label 'D', then truncate the space added at the end of the last word.\n",
        "                    diseases[cnt_disease] = diseases[cnt_disease][:-1]\n",
        "                    cnt_disease += 1\n",
        "                    diseases.append(\"\")                                               # Adding a placeholder for the next disease in the current sentence.\n",
        "            else:\n",
        "                diseases[cnt_disease] = diseases[cnt_disease][:-1]\n",
        "                cnt_disease += 1\n",
        "                diseases.append(\"\")\n",
        "\n",
        "        if (Y_pred[i][j] == 'T'):                                                     # Checking for label indicating treatment for current word ('T')\n",
        "            treatment[cnt_treatment] += (X_test[i][j][0].split('=')[1] + \" \") # Adding word to corresponding treatment list.\n",
        "            if j < length - 1:\n",
        "                if (Y_pred[i][j+1] != 'T'):                                           # Check for name of treatment extending over multiple words.\n",
        "                    # If next word does not have label 'T', then truncate the space added at the end of the last word.\n",
        "                    treatment[cnt_treatment] = treatment[cnt_treatment][:-1]\n",
        "                    cnt_treatment += 1\n",
        "                    treatment.append(\"\")                                              # Adding a placeholder for the next treatment in the current sentence.\n",
        "            else:\n",
        "                treatment[cnt_treatment] = treatment[cnt_treatment][:-1]\n",
        "                cnt_treatment += 1\n",
        "                treatment.append(\"\")\n",
        "\n",
        "    diseases.pop(-1)    # Getting rid of the last empty placeholder in diseases list\n",
        "    treatment.pop(-1)   # Getting rid of the last empty placeholder in treatments list\n",
        "\n",
        "    # To our dictionary, add or append treatments to the diseases identified from the current sentence, if any.\n",
        "    if len(diseases) > 0:       # Checking if any diseases have been identified for the current sentence.\n",
        "        for disease in diseases:\n",
        "            if disease in disease_treatment.keys():\n",
        "                # Extend treatment list if other treatments for the particular disease already exist\n",
        "                disease_treatment[disease].extend(treatment)\n",
        "            else:\n",
        "                # Creating list of treatments for particular disease if it doesn not exist already.\n",
        "                disease_treatment[disease] = treatment"
      ],
      "metadata": {
        "id": "ZnZ12ovYbLyf"
      },
      "execution_count": null,
      "outputs": []
    },
    {
      "cell_type": "code",
      "source": [
        "# Displaying dictionary of extracted diseases and potential treatments.\n",
        "disease_treatment"
      ],
      "metadata": {
        "colab": {
          "base_uri": "https://localhost:8080/"
        },
        "id": "DSBRvEJ6bNUi",
        "outputId": "33e13fdf-6995-4401-e5bd-0cb70a8ab324"
      },
      "execution_count": null,
      "outputs": [
        {
          "output_type": "execute_result",
          "data": {
            "text/plain": [
              "{'gestational diabetes cases': [],\n",
              " 'preeclampsia': [],\n",
              " 'severe preeclampsia': [],\n",
              " 'asymmetric double hemiplegia': [],\n",
              " 'reversible nonimmune hydrops fetalis': [],\n",
              " 'breast and/or ovarian cancer': [],\n",
              " 'breast cancer': ['hormone replacement therapy',\n",
              "  'undergone subcutaneous mastectomy'],\n",
              " 'ovarian cancer': ['hormone replacement therapy',\n",
              "  'undergone subcutaneous mastectomy'],\n",
              " 'prostate cancer': ['radical prostatectomy and iodine 125 interstitial radiotherapy'],\n",
              " 'mutated prostate cancer': ['radical prostatectomy and iodine 125 interstitial radiotherapy'],\n",
              " 'hereditary prostate cancer': [],\n",
              " 'multiple sclerosis ( ms )': [],\n",
              " 'hereditary retinoblastoma': ['radiotherapy'],\n",
              " 'epilepsy': [],\n",
              " 'unstable angina or non-q-wave myocardial infarction': ['roxithromycin'],\n",
              " 'coronary-artery disease': ['antichlamydial antibiotics'],\n",
              " 'early-stage cervical carcinoma': [],\n",
              " 'advanced disease': [],\n",
              " 'cerebral palsy': ['hyperbaric oxygen therapy'],\n",
              " 'severe pain': [],\n",
              " 'myofascial trigger point pain': [],\n",
              " 'infections': [],\n",
              " 'primary pulmonary hypertension ( pph )': ['fenfluramines'],\n",
              " 'essential hypertension': [],\n",
              " 'osteoporosis among older persons': [],\n",
              " 'foot infections': [],\n",
              " 'cellulitis': ['g-csf therapy', 'intravenous antibiotic treatment'],\n",
              " 'foot infection': ['g-csf treatment'],\n",
              " 'hemorrhagic stroke': [],\n",
              " 'cardiac disease': [],\n",
              " 'rheumatoid arthritis': [],\n",
              " 'stroke victims': [],\n",
              " \"early parkinson 's disease\": ['ropinirole monotherapy'],\n",
              " 'sore throat': ['antibiotics'],\n",
              " 'upper respiratory conditions': [],\n",
              " 'sore throat increase reattendance': [],\n",
              " 'postoperative pain relief': [],\n",
              " 'analgesia when equianalgesic doses': [],\n",
              " 'chronic neutropenia': [],\n",
              " 'female stress urinary incontinence': ['surgical treatment'],\n",
              " 'stress urinary incontinence': ['therapy'],\n",
              " 'corpal gastritis': [],\n",
              " 'preeclampsia ( proteinuric hypertension )': ['intrauterine insemination with donor sperm versus intrauterine insemination'],\n",
              " 'mild preeclampsia': [],\n",
              " 'myocardial amyloidosis': [],\n",
              " 'heart failure': [],\n",
              " 'amyloidosis': [],\n",
              " 'cardiac amyloid heart disease': [],\n",
              " 'retinopathy': [],\n",
              " 'intra-abdominal injury': [],\n",
              " 'tangential gunshot wounds': [],\n",
              " 'intra-abdominal hemorrhage': [],\n",
              " 'severe acquired hyperammonemia': ['organ transplantation and chemotherapy',\n",
              "  'matrix metalloproteinase inhibitors'],\n",
              " 'cancer': ['organ transplantation and chemotherapy',\n",
              "  'matrix metalloproteinase inhibitors'],\n",
              " 'major pulmonary embolism': ['thrombolytic treatment'],\n",
              " 'congestive heart failure': [],\n",
              " 'chronic pulmonary disease': [],\n",
              " 'malignant pleural mesothelioma': ['thoracotomy , radiotherapy , and chemotherapy'],\n",
              " 'additional edema': [],\n",
              " 'dyskinesias': [],\n",
              " 'darier disease': [],\n",
              " 'tumor necrosis factor-alpha': [],\n",
              " 'syndrome of hemorrhagic shock and encephalopathy': [],\n",
              " 'tss': [],\n",
              " 'pulmonary symptoms attributable': ['chemotherapy'],\n",
              " 'non-obstructive azoospermia': ['testicular sperm retrieval by testicular fine needle aspiration ( tefna )',\n",
              "  'open biopsy and testicular sperm extraction ( tese )'],\n",
              " 'mantle cell lymphoma': [],\n",
              " 'acute lymphoblastic leukaemias': [],\n",
              " 'endometriosis': [],\n",
              " 'hyperlipidemias': [],\n",
              " 'deep vein thrombosis ( dvt )': [],\n",
              " 'hepatocerebral degeneration ( portal systemic encephalopathy )': [],\n",
              " 'mastitis': [],\n",
              " 'cervical carcinoma': [],\n",
              " 'duodenal ulcer': [],\n",
              " 'childhood schizophrenia': [],\n",
              " 'congenital adrenal hyperplasia': [],\n",
              " \"laennec 's cirrhosis\": [],\n",
              " 'renal stones': [],\n",
              " 'stone disease': [],\n",
              " 'congenital anomalies': [],\n",
              " 'ovarian carcinoma': [],\n",
              " 'corticoid preparations': [],\n",
              " 'heart congestive failure': [],\n",
              " 'biliary indication': [],\n",
              " 'piglet influenza': [],\n",
              " 'chronic progressive external ophthalmoplegia': [],\n",
              " 'cystic periventricular leukomalacia': [],\n",
              " 'metastasis of laryngeal carcinomas': [],\n",
              " 'hiv infection': [],\n",
              " 'graft spasm': [],\n",
              " 'renal dysfunction': [],\n",
              " 'colorectal cancer': ['elective surgery',\n",
              "  'docosahexanoic acid ( dha ) -concentrated fish oil'],\n",
              " \"leukaemia and non-hodgkin 's lymphoma\": [],\n",
              " 'childhood acute lymphoblastic leukaemia': [],\n",
              " 'gastrointestinal tumours': ['elective surgery'],\n",
              " 'chlamydia trachomatis': [],\n",
              " 'anemia of end-stage renal disease': [],\n",
              " 'malignant lymphomas': [],\n",
              " 'polymyalgia rheumatica and temporal arteritis': [],\n",
              " 'coronary heart disease': [],\n",
              " 'restenosis after coronary angioplasty': [],\n",
              " \"oral crohn 's disease\": [],\n",
              " 'progressive sensorineural hearing loss': [],\n",
              " 'gestational diabetes': [],\n",
              " 'bronchial asthma': ['non-steroidal anti-inflammatory therapy'],\n",
              " 'disconnection syndrome': [],\n",
              " 'severe accidental hypothermia victims': [],\n",
              " 'hiv/aids': [],\n",
              " 'gunshot wounds': [],\n",
              " 'blastocystis hominis infection': [],\n",
              " 'multiple sclerosis': ['interferon beta treatment',\n",
              "  'intravenous immunoglobulin treatment'],\n",
              " 'does hyperglycemia really cause coronary heart disease': [],\n",
              " 'primary stomach lymphoma': [],\n",
              " 'systemic lupus erythematosus : mite dermatitis': [],\n",
              " 'lung cancer': [],\n",
              " 'metastatic malignant mesothelioma presenting as colonic polyps': [],\n",
              " \"parkinson 's disease\": ['microelectrode-guided posteroventral pallidotomy'],\n",
              " 'murine hepatitis virus strain 3 infection': [],\n",
              " 'synovial sarcoma': [],\n",
              " 'small cell lung cancer': [],\n",
              " 'acute respiratory distress syndrome': [],\n",
              " 'diabetes': [],\n",
              " 'chronic hepatitis': [],\n",
              " 'postraumatic stress disorder': [],\n",
              " 'kaposi sarcoma-associated herpesvirus infection': [],\n",
              " 'diabetes and hyperlipidemias': [],\n",
              " 'cardiac insufficiency': [],\n",
              " 'malignant soft tissue sarcomas': [],\n",
              " 'soft tissue sarcomas': ['radiotherapy'],\n",
              " 'intramedullary metastases of bronchogenic carcinoma': [],\n",
              " 'pseudo-lymphoma': [],\n",
              " 'auditory perception disorders due to bilateral cortical lesions': [],\n",
              " 'cerebral injuries': [],\n",
              " 'coronary endothelial dysfunction': [],\n",
              " 'myocardial perfusion defects': [],\n",
              " 'ectopic pregnancy': [],\n",
              " \"alzheimer 's disease\": [],\n",
              " \"eisenmenger 's syndrome\": ['laparoscopic cholecystectomy'],\n",
              " 'continuous ambulatory peritoneal dialysis': [],\n",
              " 'advanced esophageal cancer': ['adjuvant chemoradiotherapy with cddp'],\n",
              " 'sickle cell anemia': [],\n",
              " 'intractable seizures': [],\n",
              " 'new-onset angina preceding acute myocardial infarction': [],\n",
              " 'congenital bilateral aplasia': [],\n",
              " 'hypercholesterolemia': [],\n",
              " 'insulin-dependent diabetes mellitus': [],\n",
              " 'aids exceptionalism': [],\n",
              " 'myoepithelial carcinoma': [],\n",
              " 'pleomorphic adenoma': [],\n",
              " 'homocystinuria': [],\n",
              " 'malaria': [],\n",
              " 'severe psoriasis': [],\n",
              " 'leukemia': ['trisomy'],\n",
              " 'acute obstructive hydrocephalus complicating bacterial meningitis': [],\n",
              " 'refractory pouchitis': [],\n",
              " 'some malignant tumors such as non-small cell lung cancer': [],\n",
              " 'inoperable advanced malignancies such as colorectal cancer': ['combination with leucovorin or cisplatin'],\n",
              " 'advanced nsclc with manageable toxicities': [],\n",
              " 'recurrent cervical adenocarcinoma': [],\n",
              " 'influenza provides': [],\n",
              " 'influenza control': [],\n",
              " 'abdominal pain': [],\n",
              " 'pain': [],\n",
              " 'pleuritic pain': [],\n",
              " 'fungal infections': [],\n",
              " 'inflammatory skin diseases': ['topical corticosteroids'],\n",
              " 'unresectable stage iii nsclc': [],\n",
              " 'nsclc': ['got surgical treatment',\n",
              "  'radiotherapy',\n",
              "  'got surgical treatment',\n",
              "  'radiotherapy',\n",
              "  'platinum-based chemotherapy'],\n",
              " 'sclc': ['got surgical treatment',\n",
              "  'radiotherapy',\n",
              "  'got surgical treatment',\n",
              "  'radiotherapy',\n",
              "  'platinum-based chemotherapy'],\n",
              " 'acute rejection episode': ['therapy with extracorporeal photopheresis'],\n",
              " 'locally advanced non-small-cell lung cancer ( la-nsclc )': ['chemotherapy and radiotherapy )'],\n",
              " 'radiation-induced myelopathy': ['heparin and enoxaparin'],\n",
              " 'limited stage small cell lung cancer': ['vip combination chemotherapy and early concurrent thoracic irradiation'],\n",
              " 'malignant pleural effusions from nsclc': ['systemic chemotherapy'],\n",
              " 'small-cell lung cancer': ['chemotherapy', 'combination chemotherapy'],\n",
              " 'intraluminal early-stage cancer': [],\n",
              " 'pathologic stage i non-small cell lung cancer': [],\n",
              " 'supraclavicular node metastases in nsclc': ['chemoradiotherapy'],\n",
              " 'non-small-cell-lung-cancer ( nsclc )': ['cisplatin and radiotherapy'],\n",
              " 'esophageal cancer': [],\n",
              " 'lung cancer )': [],\n",
              " 'osteogenic sarcoma': [],\n",
              " 'lung carcinoma': ['videothoracoscopic lobectomy or partial resection',\n",
              "  'open thoracotomy'],\n",
              " 'stage 0 lung carcinoma': ['curative therapy'],\n",
              " 'melanoma': ['surgical resection'],\n",
              " 'ovarian carcinoma brain metastasis': ['surgical resection'],\n",
              " 'colorectal metastases': ['therapeutic vats metastasectomy'],\n",
              " 'limited-stage small-cell carcinoma': [],\n",
              " 'advanced nsclc': ['assessing combination chemotherapy of cisplatin , ifosfamide and irinotecan with rhg-csf support'],\n",
              " 'metastatic colorectal cancer': ['intravenous oxaliplatin'],\n",
              " 'platinum-pretreated ovarian cancer': ['oxaliplatin'],\n",
              " \"non-hodgkin 's lymphoma , breast cancer\": ['oxaliplatin'],\n",
              " 'mesothelioma and non-small cell lung cancer': ['oxaliplatin'],\n",
              " 'bronchogenic carcinoma': [],\n",
              " 'non-small cell lung cancer': ['combination with paclitaxel and carboplatin'],\n",
              " 'advanced hormone refractory prostate cancer': ['combination with paclitaxel and carboplatin'],\n",
              " 'primary lung cancer': ['resection'],\n",
              " 'adenocarcinoma': ['resection'],\n",
              " 'squamous cell carcinoma': ['resection'],\n",
              " 'stage iii nsclc': ['chemotherapy administered before surgery'],\n",
              " 'primary cancer': ['adjuvant radiation therapy', 'immunotherapy'],\n",
              " 'advanced non -- small-cell lung cancer': ['paclitaxel plus carboplatin ( pc )',\n",
              "  'vinorelbine plus cisplatin ( vc )'],\n",
              " 'extensive disease': ['platinum dose ( cisplatin plus carboplatin ) in combination chemotherapy',\n",
              "  'combination therapy with carboplatin alone'],\n",
              " 'untreated small cell lung cancer ( sclc )': [],\n",
              " 'untreated sclc': [],\n",
              " 'pulmonary hypertension': [],\n",
              " 'neutropenia during cancer': ['chemotherapy'],\n",
              " 'head and neck cancer': ['intravenous amifostine'],\n",
              " ' xerostomia': ['intravenous amifostine'],\n",
              " 'carbon monoxide poisoning': [],\n",
              " 'acute myocardial infarction': ['thrombolytic therapy'],\n",
              " 'psoriasis': ['topical application of active vitamin d3 analogue , 1 alpha , 24-dihydroxycholecalciferol'],\n",
              " 'disseminated malignant melanoma': ['leukocyte a recombinant interferon ( rifn-alpha'],\n",
              " 'advanced stage ( tnm iib-ivb ) mycosis fungoides': ['a combination chemotherapy program consisting of bleomycin and methotrexate weekly , doxorubicin every'],\n",
              " 'ventricular tachycardia': ['guiding surgical therapy'],\n",
              " 'cholestasis': [],\n",
              " 'severe acute hepatitis accompanying cholestasis': [],\n",
              " 'autoimmune hepatitis': [],\n",
              " 'spinal adhesive arachnoiditis': ['surgical management'],\n",
              " 'bronchiectasis': ['antibiotics and surgery', 'current surgical therapy'],\n",
              " 'biliary colic symptoms': ['cholecystectomy'],\n",
              " 'biliary dyskinesia': ['cholecystectomy'],\n",
              " 'the common cold': ['pseudoephedrine plus acetaminophen'],\n",
              " 'pulmonary aspergilloma': [],\n",
              " 'viral infections': [],\n",
              " 'asthma': ['fluticasone propionate', 'several inhaled corticosteroids'],\n",
              " 'pneumocystis carinii pneumonia': [],\n",
              " 'acute nasopharyngitis ( anp )': ['antibiotic treatment'],\n",
              " 'symptoms of a common cold': ['macrolide antibiotics'],\n",
              " 'rhinovirus colds': ['clarithromycin'],\n",
              " 'rhinovirus': ['clarithromycin'],\n",
              " 'acute exacerbation of chronic bronchitis': [],\n",
              " 'pneumonia': [],\n",
              " 'influenza': [],\n",
              " 'influenza a2 ( h2n2 ) virus': [],\n",
              " 'infection': ['a combination of omeprazole , amoxicillin , and clarithromycin'],\n",
              " 'carcinoma': [],\n",
              " 'persistent asthma': ['contemporary asthma management guidelines list inhaled corticosteroids'],\n",
              " 'chronic hepatitis c': ['combination therapy with interferon-alpha ( ifn alpha ) plus ribavirin'],\n",
              " 'hepatitis c viremia': ['combination therapy'],\n",
              " 'severe hypoxemia': ['glucocorticoid pulse therapy'],\n",
              " 'bacterial meningitis': [],\n",
              " 'haemophilus influenzae meningitis': [],\n",
              " 'asthmatic bronchitis': [],\n",
              " 'rsv bronchiolitis': [],\n",
              " 'primary sclerosing cholangitis ( psc )': [],\n",
              " 'chronic renal failure': [],\n",
              " 'ischemic heart disease': [],\n",
              " 'peritoneal tumors': ['subcutaneous injection of irradiated llc-il2'],\n",
              " 'acute occlusion of the middle cerebral artery': ['thrombolytic therapy'],\n",
              " 'benign prostatic hyperplasia': [],\n",
              " 'rheumatic pain herbal': [],\n",
              " 'inflammatory and autoimmune diseases': ['high-dose intravenous immunoglobulin ( hdivig )'],\n",
              " 'large midline incisional hernias': [],\n",
              " 'low-grade nhl': [],\n",
              " 'large-bowel cancer': [],\n",
              " 'phaeochromocytoma': ['adrenalectomy'],\n",
              " 'malignant melanoma': ['interferon alfa-2a'],\n",
              " 'advanced renal cell carcinoma': ['various interferon alpha preparations',\n",
              "  'interferon alfa-n1 , interferon alfa-2a , and interferon alfa-2b'],\n",
              " 'hairy cell leukemia': [],\n",
              " \"low-grade non-hodgkin 's lymphoma\": ['interferon alpha'],\n",
              " \"low-grade non-hodgkin 's lymphomas\": [],\n",
              " 'chronic myelogenous leukemia ( cml )': [],\n",
              " 'partial seizures': ['lamotrigine ( ltg )', 'lamotrigine monotherapy'],\n",
              " 'esophageal achalasia': ['botulinum toxin injection , pneumatic dilation , and laparoscopic myotomy'],\n",
              " 'irritable bowel syndrome': ['chinese herbal medicine'],\n",
              " 'proximal hypospadias': ['tubularized incised plate hypospadias repair'],\n",
              " 'tumors': ['immunotherapy'],\n",
              " 'sickle cell disease': [],\n",
              " 'haematoma block versus intravenous regional anaesthesia': [],\n",
              " 'stroke': [],\n",
              " 'mitomycin-resistant bladder cancer': ['photodynamic therapy in combination with mitomycin c'],\n",
              " 'b16 melanoma': ['adenosine triphosphate and treatment with buthionine sulfoximine'],\n",
              " 'primary uveal melanoma': ['transpupillary thermotherapy'],\n",
              " 'advanced rectal cancer': [],\n",
              " 'noncirrhotic portal hypertension': [],\n",
              " 'midline incisional hernias': [],\n",
              " 'empyema': [],\n",
              " \"non-hodgkin 's lymphoma\": [],\n",
              " 'acute cerebral ischemia': ['antiplatelet therapy'],\n",
              " 'hyperopia': [],\n",
              " 'renal cell carcinoma': ['interferon treatment'],\n",
              " 'odontogenic infections': [],\n",
              " 'myocardial angiogenesis': ['gene therapy'],\n",
              " 'autoimmune hemolytic anemia': ['heparin'],\n",
              " 'epithelial ovarian cancer': ['high-dose chemotherapy'],\n",
              " 'atrial fibrillation': ['antiplatelet therapy'],\n",
              " 'diabetes mellitus': [],\n",
              " 'lymphoma': [],\n",
              " 'acute repetitive seizures': [],\n",
              " 'moderately symptomatic benign prostatic hyperplasia': ['surgical resection'],\n",
              " 'acoustic neuroma': ['stereotactic radiosurgery'],\n",
              " 'postvitrectomy diabetic vitreous hemorrhage': ['peripheral retinal cryotherapy'],\n",
              " 'acute carbon monoxide poisoning': [],\n",
              " 'hepatitis b': ['vaccine containing mf59 adjuvant'],\n",
              " 'temporomandibular joint arthropathy': [],\n",
              " 'acute colonic pseudo-obstruction': [],\n",
              " 'severe secondary peritonitis': ['surgical management'],\n",
              " 'hepatic metastases from colorectal cancer': ['hepatic arterial infusion of chemotherapy after resection'],\n",
              " 'severe diverticular hemorrhage': [],\n",
              " 'stable asthma': [],\n",
              " 'arthritis': [],\n",
              " 'live oral poliovirus vaccines': [],\n",
              " 'glaucoma': [],\n",
              " 'responsive multiple myeloma': []}"
            ]
          },
          "metadata": {},
          "execution_count": 41
        }
      ]
    },
    {
      "cell_type": "markdown",
      "source": [
        "- It can be observed that several diseases do not have any identified treatments from our text corpus.\n",
        "- It may be prudent to avoid including these diseases in our final dictionary of diseases and corresponding treatments."
      ],
      "metadata": {
        "id": "PnBzmPZrbOU9"
      }
    },
    {
      "cell_type": "code",
      "source": [
        "# Obtaining a cleaned version of our \"disease_treatment\" dictionary\n",
        "cleaned_dict = {}\n",
        "for key in disease_treatment.keys():\n",
        "    if disease_treatment[key] != []:\n",
        "        cleaned_dict[key] = disease_treatment[key]\n",
        "cleaned_dict"
      ],
      "metadata": {
        "colab": {
          "base_uri": "https://localhost:8080/"
        },
        "id": "UhA2EMrjbQPg",
        "outputId": "2401aba0-abb6-4fd8-82a8-236cde42bc80"
      },
      "execution_count": null,
      "outputs": [
        {
          "output_type": "execute_result",
          "data": {
            "text/plain": [
              "{'breast cancer': ['hormone replacement therapy',\n",
              "  'undergone subcutaneous mastectomy'],\n",
              " 'ovarian cancer': ['hormone replacement therapy',\n",
              "  'undergone subcutaneous mastectomy'],\n",
              " 'prostate cancer': ['radical prostatectomy and iodine 125 interstitial radiotherapy'],\n",
              " 'mutated prostate cancer': ['radical prostatectomy and iodine 125 interstitial radiotherapy'],\n",
              " 'hereditary retinoblastoma': ['radiotherapy'],\n",
              " 'unstable angina or non-q-wave myocardial infarction': ['roxithromycin'],\n",
              " 'coronary-artery disease': ['antichlamydial antibiotics'],\n",
              " 'cerebral palsy': ['hyperbaric oxygen therapy'],\n",
              " 'primary pulmonary hypertension ( pph )': ['fenfluramines'],\n",
              " 'cellulitis': ['g-csf therapy', 'intravenous antibiotic treatment'],\n",
              " 'foot infection': ['g-csf treatment'],\n",
              " \"early parkinson 's disease\": ['ropinirole monotherapy'],\n",
              " 'sore throat': ['antibiotics'],\n",
              " 'female stress urinary incontinence': ['surgical treatment'],\n",
              " 'stress urinary incontinence': ['therapy'],\n",
              " 'preeclampsia ( proteinuric hypertension )': ['intrauterine insemination with donor sperm versus intrauterine insemination'],\n",
              " 'severe acquired hyperammonemia': ['organ transplantation and chemotherapy',\n",
              "  'matrix metalloproteinase inhibitors'],\n",
              " 'cancer': ['organ transplantation and chemotherapy',\n",
              "  'matrix metalloproteinase inhibitors'],\n",
              " 'major pulmonary embolism': ['thrombolytic treatment'],\n",
              " 'malignant pleural mesothelioma': ['thoracotomy , radiotherapy , and chemotherapy'],\n",
              " 'pulmonary symptoms attributable': ['chemotherapy'],\n",
              " 'non-obstructive azoospermia': ['testicular sperm retrieval by testicular fine needle aspiration ( tefna )',\n",
              "  'open biopsy and testicular sperm extraction ( tese )'],\n",
              " 'colorectal cancer': ['elective surgery',\n",
              "  'docosahexanoic acid ( dha ) -concentrated fish oil'],\n",
              " 'gastrointestinal tumours': ['elective surgery'],\n",
              " 'bronchial asthma': ['non-steroidal anti-inflammatory therapy'],\n",
              " 'multiple sclerosis': ['interferon beta treatment',\n",
              "  'intravenous immunoglobulin treatment'],\n",
              " \"parkinson 's disease\": ['microelectrode-guided posteroventral pallidotomy'],\n",
              " 'soft tissue sarcomas': ['radiotherapy'],\n",
              " \"eisenmenger 's syndrome\": ['laparoscopic cholecystectomy'],\n",
              " 'advanced esophageal cancer': ['adjuvant chemoradiotherapy with cddp'],\n",
              " 'leukemia': ['trisomy'],\n",
              " 'inoperable advanced malignancies such as colorectal cancer': ['combination with leucovorin or cisplatin'],\n",
              " 'inflammatory skin diseases': ['topical corticosteroids'],\n",
              " 'nsclc': ['got surgical treatment',\n",
              "  'radiotherapy',\n",
              "  'got surgical treatment',\n",
              "  'radiotherapy',\n",
              "  'platinum-based chemotherapy'],\n",
              " 'sclc': ['got surgical treatment',\n",
              "  'radiotherapy',\n",
              "  'got surgical treatment',\n",
              "  'radiotherapy',\n",
              "  'platinum-based chemotherapy'],\n",
              " 'acute rejection episode': ['therapy with extracorporeal photopheresis'],\n",
              " 'locally advanced non-small-cell lung cancer ( la-nsclc )': ['chemotherapy and radiotherapy )'],\n",
              " 'radiation-induced myelopathy': ['heparin and enoxaparin'],\n",
              " 'limited stage small cell lung cancer': ['vip combination chemotherapy and early concurrent thoracic irradiation'],\n",
              " 'malignant pleural effusions from nsclc': ['systemic chemotherapy'],\n",
              " 'small-cell lung cancer': ['chemotherapy', 'combination chemotherapy'],\n",
              " 'supraclavicular node metastases in nsclc': ['chemoradiotherapy'],\n",
              " 'non-small-cell-lung-cancer ( nsclc )': ['cisplatin and radiotherapy'],\n",
              " 'lung carcinoma': ['videothoracoscopic lobectomy or partial resection',\n",
              "  'open thoracotomy'],\n",
              " 'stage 0 lung carcinoma': ['curative therapy'],\n",
              " 'melanoma': ['surgical resection'],\n",
              " 'ovarian carcinoma brain metastasis': ['surgical resection'],\n",
              " 'colorectal metastases': ['therapeutic vats metastasectomy'],\n",
              " 'advanced nsclc': ['assessing combination chemotherapy of cisplatin , ifosfamide and irinotecan with rhg-csf support'],\n",
              " 'metastatic colorectal cancer': ['intravenous oxaliplatin'],\n",
              " 'platinum-pretreated ovarian cancer': ['oxaliplatin'],\n",
              " \"non-hodgkin 's lymphoma , breast cancer\": ['oxaliplatin'],\n",
              " 'mesothelioma and non-small cell lung cancer': ['oxaliplatin'],\n",
              " 'non-small cell lung cancer': ['combination with paclitaxel and carboplatin'],\n",
              " 'advanced hormone refractory prostate cancer': ['combination with paclitaxel and carboplatin'],\n",
              " 'primary lung cancer': ['resection'],\n",
              " 'adenocarcinoma': ['resection'],\n",
              " 'squamous cell carcinoma': ['resection'],\n",
              " 'stage iii nsclc': ['chemotherapy administered before surgery'],\n",
              " 'primary cancer': ['adjuvant radiation therapy', 'immunotherapy'],\n",
              " 'advanced non -- small-cell lung cancer': ['paclitaxel plus carboplatin ( pc )',\n",
              "  'vinorelbine plus cisplatin ( vc )'],\n",
              " 'extensive disease': ['platinum dose ( cisplatin plus carboplatin ) in combination chemotherapy',\n",
              "  'combination therapy with carboplatin alone'],\n",
              " 'neutropenia during cancer': ['chemotherapy'],\n",
              " 'head and neck cancer': ['intravenous amifostine'],\n",
              " ' xerostomia': ['intravenous amifostine'],\n",
              " 'acute myocardial infarction': ['thrombolytic therapy'],\n",
              " 'psoriasis': ['topical application of active vitamin d3 analogue , 1 alpha , 24-dihydroxycholecalciferol'],\n",
              " 'disseminated malignant melanoma': ['leukocyte a recombinant interferon ( rifn-alpha'],\n",
              " 'advanced stage ( tnm iib-ivb ) mycosis fungoides': ['a combination chemotherapy program consisting of bleomycin and methotrexate weekly , doxorubicin every'],\n",
              " 'ventricular tachycardia': ['guiding surgical therapy'],\n",
              " 'spinal adhesive arachnoiditis': ['surgical management'],\n",
              " 'bronchiectasis': ['antibiotics and surgery', 'current surgical therapy'],\n",
              " 'biliary colic symptoms': ['cholecystectomy'],\n",
              " 'biliary dyskinesia': ['cholecystectomy'],\n",
              " 'the common cold': ['pseudoephedrine plus acetaminophen'],\n",
              " 'asthma': ['fluticasone propionate', 'several inhaled corticosteroids'],\n",
              " 'acute nasopharyngitis ( anp )': ['antibiotic treatment'],\n",
              " 'symptoms of a common cold': ['macrolide antibiotics'],\n",
              " 'rhinovirus colds': ['clarithromycin'],\n",
              " 'rhinovirus': ['clarithromycin'],\n",
              " 'infection': ['a combination of omeprazole , amoxicillin , and clarithromycin'],\n",
              " 'persistent asthma': ['contemporary asthma management guidelines list inhaled corticosteroids'],\n",
              " 'chronic hepatitis c': ['combination therapy with interferon-alpha ( ifn alpha ) plus ribavirin'],\n",
              " 'hepatitis c viremia': ['combination therapy'],\n",
              " 'severe hypoxemia': ['glucocorticoid pulse therapy'],\n",
              " 'peritoneal tumors': ['subcutaneous injection of irradiated llc-il2'],\n",
              " 'acute occlusion of the middle cerebral artery': ['thrombolytic therapy'],\n",
              " 'inflammatory and autoimmune diseases': ['high-dose intravenous immunoglobulin ( hdivig )'],\n",
              " 'phaeochromocytoma': ['adrenalectomy'],\n",
              " 'malignant melanoma': ['interferon alfa-2a'],\n",
              " 'advanced renal cell carcinoma': ['various interferon alpha preparations',\n",
              "  'interferon alfa-n1 , interferon alfa-2a , and interferon alfa-2b'],\n",
              " \"low-grade non-hodgkin 's lymphoma\": ['interferon alpha'],\n",
              " 'partial seizures': ['lamotrigine ( ltg )', 'lamotrigine monotherapy'],\n",
              " 'esophageal achalasia': ['botulinum toxin injection , pneumatic dilation , and laparoscopic myotomy'],\n",
              " 'irritable bowel syndrome': ['chinese herbal medicine'],\n",
              " 'proximal hypospadias': ['tubularized incised plate hypospadias repair'],\n",
              " 'tumors': ['immunotherapy'],\n",
              " 'mitomycin-resistant bladder cancer': ['photodynamic therapy in combination with mitomycin c'],\n",
              " 'b16 melanoma': ['adenosine triphosphate and treatment with buthionine sulfoximine'],\n",
              " 'primary uveal melanoma': ['transpupillary thermotherapy'],\n",
              " 'acute cerebral ischemia': ['antiplatelet therapy'],\n",
              " 'renal cell carcinoma': ['interferon treatment'],\n",
              " 'myocardial angiogenesis': ['gene therapy'],\n",
              " 'autoimmune hemolytic anemia': ['heparin'],\n",
              " 'epithelial ovarian cancer': ['high-dose chemotherapy'],\n",
              " 'atrial fibrillation': ['antiplatelet therapy'],\n",
              " 'moderately symptomatic benign prostatic hyperplasia': ['surgical resection'],\n",
              " 'acoustic neuroma': ['stereotactic radiosurgery'],\n",
              " 'postvitrectomy diabetic vitreous hemorrhage': ['peripheral retinal cryotherapy'],\n",
              " 'hepatitis b': ['vaccine containing mf59 adjuvant'],\n",
              " 'severe secondary peritonitis': ['surgical management'],\n",
              " 'hepatic metastases from colorectal cancer': ['hepatic arterial infusion of chemotherapy after resection']}"
            ]
          },
          "metadata": {},
          "execution_count": 42
        }
      ]
    },
    {
      "cell_type": "code",
      "source": [
        "# Converting dictionary to a dataframe\n",
        "cleaned_df = pd.DataFrame({\"Disease\":cleaned_dict.keys(),\"Treatments\":cleaned_dict.values()})\n",
        "cleaned_df.head()"
      ],
      "metadata": {
        "colab": {
          "base_uri": "https://localhost:8080/",
          "height": 206
        },
        "id": "WUVpcQjxbRUW",
        "outputId": "aac096c3-a157-4c6e-ba1a-3ed2c0b1c8f7"
      },
      "execution_count": null,
      "outputs": [
        {
          "output_type": "execute_result",
          "data": {
            "text/plain": [
              "                     Disease  \\\n",
              "0              breast cancer   \n",
              "1             ovarian cancer   \n",
              "2            prostate cancer   \n",
              "3    mutated prostate cancer   \n",
              "4  hereditary retinoblastoma   \n",
              "\n",
              "                                          Treatments  \n",
              "0  [hormone replacement therapy, undergone subcut...  \n",
              "1  [hormone replacement therapy, undergone subcut...  \n",
              "2  [radical prostatectomy and iodine 125 intersti...  \n",
              "3  [radical prostatectomy and iodine 125 intersti...  \n",
              "4                                     [radiotherapy]  "
            ],
            "text/html": [
              "\n",
              "  <div id=\"df-303998ee-c45f-4f36-bb57-1fd2f1dae172\" class=\"colab-df-container\">\n",
              "    <div>\n",
              "<style scoped>\n",
              "    .dataframe tbody tr th:only-of-type {\n",
              "        vertical-align: middle;\n",
              "    }\n",
              "\n",
              "    .dataframe tbody tr th {\n",
              "        vertical-align: top;\n",
              "    }\n",
              "\n",
              "    .dataframe thead th {\n",
              "        text-align: right;\n",
              "    }\n",
              "</style>\n",
              "<table border=\"1\" class=\"dataframe\">\n",
              "  <thead>\n",
              "    <tr style=\"text-align: right;\">\n",
              "      <th></th>\n",
              "      <th>Disease</th>\n",
              "      <th>Treatments</th>\n",
              "    </tr>\n",
              "  </thead>\n",
              "  <tbody>\n",
              "    <tr>\n",
              "      <th>0</th>\n",
              "      <td>breast cancer</td>\n",
              "      <td>[hormone replacement therapy, undergone subcut...</td>\n",
              "    </tr>\n",
              "    <tr>\n",
              "      <th>1</th>\n",
              "      <td>ovarian cancer</td>\n",
              "      <td>[hormone replacement therapy, undergone subcut...</td>\n",
              "    </tr>\n",
              "    <tr>\n",
              "      <th>2</th>\n",
              "      <td>prostate cancer</td>\n",
              "      <td>[radical prostatectomy and iodine 125 intersti...</td>\n",
              "    </tr>\n",
              "    <tr>\n",
              "      <th>3</th>\n",
              "      <td>mutated prostate cancer</td>\n",
              "      <td>[radical prostatectomy and iodine 125 intersti...</td>\n",
              "    </tr>\n",
              "    <tr>\n",
              "      <th>4</th>\n",
              "      <td>hereditary retinoblastoma</td>\n",
              "      <td>[radiotherapy]</td>\n",
              "    </tr>\n",
              "  </tbody>\n",
              "</table>\n",
              "</div>\n",
              "    <div class=\"colab-df-buttons\">\n",
              "\n",
              "  <div class=\"colab-df-container\">\n",
              "    <button class=\"colab-df-convert\" onclick=\"convertToInteractive('df-303998ee-c45f-4f36-bb57-1fd2f1dae172')\"\n",
              "            title=\"Convert this dataframe to an interactive table.\"\n",
              "            style=\"display:none;\">\n",
              "\n",
              "  <svg xmlns=\"http://www.w3.org/2000/svg\" height=\"24px\" viewBox=\"0 -960 960 960\">\n",
              "    <path d=\"M120-120v-720h720v720H120Zm60-500h600v-160H180v160Zm220 220h160v-160H400v160Zm0 220h160v-160H400v160ZM180-400h160v-160H180v160Zm440 0h160v-160H620v160ZM180-180h160v-160H180v160Zm440 0h160v-160H620v160Z\"/>\n",
              "  </svg>\n",
              "    </button>\n",
              "\n",
              "  <style>\n",
              "    .colab-df-container {\n",
              "      display:flex;\n",
              "      gap: 12px;\n",
              "    }\n",
              "\n",
              "    .colab-df-convert {\n",
              "      background-color: #E8F0FE;\n",
              "      border: none;\n",
              "      border-radius: 50%;\n",
              "      cursor: pointer;\n",
              "      display: none;\n",
              "      fill: #1967D2;\n",
              "      height: 32px;\n",
              "      padding: 0 0 0 0;\n",
              "      width: 32px;\n",
              "    }\n",
              "\n",
              "    .colab-df-convert:hover {\n",
              "      background-color: #E2EBFA;\n",
              "      box-shadow: 0px 1px 2px rgba(60, 64, 67, 0.3), 0px 1px 3px 1px rgba(60, 64, 67, 0.15);\n",
              "      fill: #174EA6;\n",
              "    }\n",
              "\n",
              "    .colab-df-buttons div {\n",
              "      margin-bottom: 4px;\n",
              "    }\n",
              "\n",
              "    [theme=dark] .colab-df-convert {\n",
              "      background-color: #3B4455;\n",
              "      fill: #D2E3FC;\n",
              "    }\n",
              "\n",
              "    [theme=dark] .colab-df-convert:hover {\n",
              "      background-color: #434B5C;\n",
              "      box-shadow: 0px 1px 3px 1px rgba(0, 0, 0, 0.15);\n",
              "      filter: drop-shadow(0px 1px 2px rgba(0, 0, 0, 0.3));\n",
              "      fill: #FFFFFF;\n",
              "    }\n",
              "  </style>\n",
              "\n",
              "    <script>\n",
              "      const buttonEl =\n",
              "        document.querySelector('#df-303998ee-c45f-4f36-bb57-1fd2f1dae172 button.colab-df-convert');\n",
              "      buttonEl.style.display =\n",
              "        google.colab.kernel.accessAllowed ? 'block' : 'none';\n",
              "\n",
              "      async function convertToInteractive(key) {\n",
              "        const element = document.querySelector('#df-303998ee-c45f-4f36-bb57-1fd2f1dae172');\n",
              "        const dataTable =\n",
              "          await google.colab.kernel.invokeFunction('convertToInteractive',\n",
              "                                                    [key], {});\n",
              "        if (!dataTable) return;\n",
              "\n",
              "        const docLinkHtml = 'Like what you see? Visit the ' +\n",
              "          '<a target=\"_blank\" href=https://colab.research.google.com/notebooks/data_table.ipynb>data table notebook</a>'\n",
              "          + ' to learn more about interactive tables.';\n",
              "        element.innerHTML = '';\n",
              "        dataTable['output_type'] = 'display_data';\n",
              "        await google.colab.output.renderOutput(dataTable, element);\n",
              "        const docLink = document.createElement('div');\n",
              "        docLink.innerHTML = docLinkHtml;\n",
              "        element.appendChild(docLink);\n",
              "      }\n",
              "    </script>\n",
              "  </div>\n",
              "\n",
              "\n",
              "<div id=\"df-3b01a280-19f8-4d9a-8604-76d521053cdb\">\n",
              "  <button class=\"colab-df-quickchart\" onclick=\"quickchart('df-3b01a280-19f8-4d9a-8604-76d521053cdb')\"\n",
              "            title=\"Suggest charts\"\n",
              "            style=\"display:none;\">\n",
              "\n",
              "<svg xmlns=\"http://www.w3.org/2000/svg\" height=\"24px\"viewBox=\"0 0 24 24\"\n",
              "     width=\"24px\">\n",
              "    <g>\n",
              "        <path d=\"M19 3H5c-1.1 0-2 .9-2 2v14c0 1.1.9 2 2 2h14c1.1 0 2-.9 2-2V5c0-1.1-.9-2-2-2zM9 17H7v-7h2v7zm4 0h-2V7h2v10zm4 0h-2v-4h2v4z\"/>\n",
              "    </g>\n",
              "</svg>\n",
              "  </button>\n",
              "\n",
              "<style>\n",
              "  .colab-df-quickchart {\n",
              "      --bg-color: #E8F0FE;\n",
              "      --fill-color: #1967D2;\n",
              "      --hover-bg-color: #E2EBFA;\n",
              "      --hover-fill-color: #174EA6;\n",
              "      --disabled-fill-color: #AAA;\n",
              "      --disabled-bg-color: #DDD;\n",
              "  }\n",
              "\n",
              "  [theme=dark] .colab-df-quickchart {\n",
              "      --bg-color: #3B4455;\n",
              "      --fill-color: #D2E3FC;\n",
              "      --hover-bg-color: #434B5C;\n",
              "      --hover-fill-color: #FFFFFF;\n",
              "      --disabled-bg-color: #3B4455;\n",
              "      --disabled-fill-color: #666;\n",
              "  }\n",
              "\n",
              "  .colab-df-quickchart {\n",
              "    background-color: var(--bg-color);\n",
              "    border: none;\n",
              "    border-radius: 50%;\n",
              "    cursor: pointer;\n",
              "    display: none;\n",
              "    fill: var(--fill-color);\n",
              "    height: 32px;\n",
              "    padding: 0;\n",
              "    width: 32px;\n",
              "  }\n",
              "\n",
              "  .colab-df-quickchart:hover {\n",
              "    background-color: var(--hover-bg-color);\n",
              "    box-shadow: 0 1px 2px rgba(60, 64, 67, 0.3), 0 1px 3px 1px rgba(60, 64, 67, 0.15);\n",
              "    fill: var(--button-hover-fill-color);\n",
              "  }\n",
              "\n",
              "  .colab-df-quickchart-complete:disabled,\n",
              "  .colab-df-quickchart-complete:disabled:hover {\n",
              "    background-color: var(--disabled-bg-color);\n",
              "    fill: var(--disabled-fill-color);\n",
              "    box-shadow: none;\n",
              "  }\n",
              "\n",
              "  .colab-df-spinner {\n",
              "    border: 2px solid var(--fill-color);\n",
              "    border-color: transparent;\n",
              "    border-bottom-color: var(--fill-color);\n",
              "    animation:\n",
              "      spin 1s steps(1) infinite;\n",
              "  }\n",
              "\n",
              "  @keyframes spin {\n",
              "    0% {\n",
              "      border-color: transparent;\n",
              "      border-bottom-color: var(--fill-color);\n",
              "      border-left-color: var(--fill-color);\n",
              "    }\n",
              "    20% {\n",
              "      border-color: transparent;\n",
              "      border-left-color: var(--fill-color);\n",
              "      border-top-color: var(--fill-color);\n",
              "    }\n",
              "    30% {\n",
              "      border-color: transparent;\n",
              "      border-left-color: var(--fill-color);\n",
              "      border-top-color: var(--fill-color);\n",
              "      border-right-color: var(--fill-color);\n",
              "    }\n",
              "    40% {\n",
              "      border-color: transparent;\n",
              "      border-right-color: var(--fill-color);\n",
              "      border-top-color: var(--fill-color);\n",
              "    }\n",
              "    60% {\n",
              "      border-color: transparent;\n",
              "      border-right-color: var(--fill-color);\n",
              "    }\n",
              "    80% {\n",
              "      border-color: transparent;\n",
              "      border-right-color: var(--fill-color);\n",
              "      border-bottom-color: var(--fill-color);\n",
              "    }\n",
              "    90% {\n",
              "      border-color: transparent;\n",
              "      border-bottom-color: var(--fill-color);\n",
              "    }\n",
              "  }\n",
              "</style>\n",
              "\n",
              "  <script>\n",
              "    async function quickchart(key) {\n",
              "      const quickchartButtonEl =\n",
              "        document.querySelector('#' + key + ' button');\n",
              "      quickchartButtonEl.disabled = true;  // To prevent multiple clicks.\n",
              "      quickchartButtonEl.classList.add('colab-df-spinner');\n",
              "      try {\n",
              "        const charts = await google.colab.kernel.invokeFunction(\n",
              "            'suggestCharts', [key], {});\n",
              "      } catch (error) {\n",
              "        console.error('Error during call to suggestCharts:', error);\n",
              "      }\n",
              "      quickchartButtonEl.classList.remove('colab-df-spinner');\n",
              "      quickchartButtonEl.classList.add('colab-df-quickchart-complete');\n",
              "    }\n",
              "    (() => {\n",
              "      let quickchartButtonEl =\n",
              "        document.querySelector('#df-3b01a280-19f8-4d9a-8604-76d521053cdb button');\n",
              "      quickchartButtonEl.style.display =\n",
              "        google.colab.kernel.accessAllowed ? 'block' : 'none';\n",
              "    })();\n",
              "  </script>\n",
              "</div>\n",
              "\n",
              "    </div>\n",
              "  </div>\n"
            ],
            "application/vnd.google.colaboratory.intrinsic+json": {
              "type": "dataframe",
              "variable_name": "cleaned_df",
              "summary": "{\n  \"name\": \"cleaned_df\",\n  \"rows\": 112,\n  \"fields\": [\n    {\n      \"column\": \"Disease\",\n      \"properties\": {\n        \"dtype\": \"string\",\n        \"num_unique_values\": 112,\n        \"samples\": [\n          \"small-cell lung cancer\",\n          \"acute myocardial infarction\",\n          \"hereditary retinoblastoma\"\n        ],\n        \"semantic_type\": \"\",\n        \"description\": \"\"\n      }\n    },\n    {\n      \"column\": \"Treatments\",\n      \"properties\": {\n        \"dtype\": \"object\",\n        \"semantic_type\": \"\",\n        \"description\": \"\"\n      }\n    }\n  ]\n}"
            }
          },
          "metadata": {},
          "execution_count": 43
        }
      ]
    },
    {
      "cell_type": "markdown",
      "source": [
        "### Predict the treatment for the disease name: 'hereditary retinoblastoma'"
      ],
      "metadata": {
        "id": "FUhedvXSbTIf"
      }
    },
    {
      "cell_type": "code",
      "source": [
        "search_item = 'hereditary retinoblastoma'\n",
        "treatments = cleaned_dict[search_item]\n",
        "print(\"Treatments for '{0}' is/are \".format(search_item), end = \"\")\n",
        "for i in range(len(treatments)-1):\n",
        "    print(\"'{}'\".format(treatments[i]),\",\", end=\"\")\n",
        "print(\"'{}'\".format(treatments[-1]))"
      ],
      "metadata": {
        "id": "pxTmeSGJbUvW",
        "outputId": "edcc7810-dd40-4a20-83f5-b6dd582c2292",
        "colab": {
          "base_uri": "https://localhost:8080/"
        }
      },
      "execution_count": null,
      "outputs": [
        {
          "output_type": "stream",
          "name": "stdout",
          "text": [
            "Treatments for 'hereditary retinoblastoma' is/are 'radiotherapy'\n"
          ]
        }
      ]
    },
    {
      "cell_type": "code",
      "source": [],
      "metadata": {
        "id": "h8SFfZRxbVrG"
      },
      "execution_count": null,
      "outputs": []
    }
  ]
}